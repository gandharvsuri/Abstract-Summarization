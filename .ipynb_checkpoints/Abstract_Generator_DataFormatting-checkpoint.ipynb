{
 "cells": [
  {
   "cell_type": "code",
   "execution_count": 19,
   "metadata": {
    "colab": {
     "base_uri": "https://localhost:8080/",
     "height": 51
    },
    "colab_type": "code",
    "id": "8yRN30hAWKGQ",
    "outputId": "998581af-fd67-4341-fba8-85f1e98942ce"
   },
   "outputs": [
    {
     "name": "stdout",
     "output_type": "stream",
     "text": [
      "Requirement already satisfied: tqdm==4.36.1 in /usr/local/lib/python3.6/dist-packages (4.36.1)\n"
     ]
    }
   ],
   "source": [
    "# tqdm version 4.36.1 is required\n",
    "\n",
    "\n",
    "!pip install tqdm==4.36.1"
   ]
  },
  {
   "cell_type": "code",
   "execution_count": 20,
   "metadata": {
    "colab": {
     "base_uri": "https://localhost:8080/",
     "height": 51
    },
    "colab_type": "code",
    "id": "AxlIcG9tWV1Y",
    "outputId": "7b1d779e-7c6c-492d-eb00-d111e08e1d03"
   },
   "outputs": [
    {
     "name": "stdout",
     "output_type": "stream",
     "text": [
      "Drive already mounted at /content/drive; to attempt to forcibly remount, call drive.mount(\"/content/drive\", force_remount=True).\n"
     ]
    }
   ],
   "source": [
    "# Mounting Drive\n",
    "\n",
    "\n",
    "from google.colab import drive\n",
    "drive.mount('/content/drive')"
   ]
  },
  {
   "cell_type": "code",
   "execution_count": 21,
   "metadata": {
    "colab": {
     "base_uri": "https://localhost:8080/",
     "height": 68
    },
    "colab_type": "code",
    "id": "oeYeuULxWb4Z",
    "outputId": "4d3c1c18-6a6b-41de-a300-2d617cb0b6f2"
   },
   "outputs": [
    {
     "name": "stdout",
     "output_type": "stream",
     "text": [
      "[nltk_data] Downloading package stopwords to /root/nltk_data...\n",
      "[nltk_data]   Package stopwords is already up-to-date!\n"
     ]
    }
   ],
   "source": [
    "# Importing Libaries\n",
    "\n",
    "\n",
    "import numpy as np  \n",
    "import pandas as pd \n",
    "import re           \n",
    "import glob\n",
    "from bs4 import BeautifulSoup \n",
    "from keras.preprocessing.text import Tokenizer \n",
    "from keras.preprocessing.sequence import pad_sequences\n",
    "from nltk.corpus import stopwords   \n",
    "from tensorflow.keras.layers import Input, LSTM, Embedding, Dense, Concatenate, TimeDistributed, Bidirectional\n",
    "from tensorflow.keras.models import Model\n",
    "from tensorflow.keras.callbacks import EarlyStopping\n",
    "from tensorflow.keras.models import load_model\n",
    "import keras\n",
    "import warnings\n",
    "import nltk\n",
    "nltk.download('stopwords')\n",
    "pd.set_option(\"display.max_colwidth\", 200)\n",
    "warnings.filterwarnings(\"ignore\")"
   ]
  },
  {
   "cell_type": "code",
   "execution_count": 0,
   "metadata": {
    "colab": {},
    "colab_type": "code",
    "id": "TkenhppLWg-B"
   },
   "outputs": [],
   "source": [
    "# Progress bar\n",
    "\n",
    "\n",
    "from tqdm import tqdm\n",
    "tqdm.pandas()"
   ]
  },
  {
   "cell_type": "code",
   "execution_count": 0,
   "metadata": {
    "colab": {},
    "colab_type": "code",
    "id": "M25zNardWsRI"
   },
   "outputs": [],
   "source": [
    "# Load Data\n",
    "\n",
    "data = pd.read_csv('/content/drive/My Drive/dataset1.csv')\n",
    "data.head()"
   ]
  },
  {
   "cell_type": "code",
   "execution_count": 24,
   "metadata": {
    "colab": {
     "base_uri": "https://localhost:8080/",
     "height": 833
    },
    "colab_type": "code",
    "id": "3a3pFVbRdc_j",
    "outputId": "aa8ad481-e124-4508-9a8c-44283daeceb4"
   },
   "outputs": [
    {
     "data": {
      "text/plain": [
       "Unnamed: 0                        0\n",
       "MAIN-TITLE                        0\n",
       "HIGHLIGHTS                        0\n",
       "KEYPHRASES                        0\n",
       "ABSTRACT                          0\n",
       "ACKNOWLEDGEMENTS               6225\n",
       "REFERENCES                     8195\n",
       "INTRODUCTION                    254\n",
       "RESULTS AND DISCUSSION         7516\n",
       "CONCLUSION                     5441\n",
       "ACKNOWLEDGMENT                 7487\n",
       "CONCLUSIONS                    5340\n",
       "RELATED WORK                   7065\n",
       "DISCUSSION                     6202\n",
       "ACKNOWLEDGMENTS                5393\n",
       "OVERVIEW                       8059\n",
       "DISCUSSION AND CONCLUSIONS     8084\n",
       "EXPERIMENTAL RESULTS           7598\n",
       "METHODS                        7430\n",
       "RESULTS                        6165\n",
       "IMPLEMENTATION                 8047\n",
       "ACKNOWLEDGEMENT                7715\n",
       "MATERIAL AND METHODS           8023\n",
       "CONCLUSIONS AND FUTURE WORK    7894\n",
       "BACKGROUND                     7782\n",
       "METHODOLOGY                    7850\n",
       "FUTURE WORK                    8090\n",
       "EXPERIMENTS                    7764\n",
       "LITERATURE REVIEW              7686\n",
       "EVALUATION                     7979\n",
       "RELATED WORKS                  7984\n",
       "ANALYSIS                       8091\n",
       "METHOD                         7840\n",
       "PROCEDURE                      7991\n",
       "MOTIVATION                     8083\n",
       "LIMITATIONS                    7976\n",
       "DISCUSSION AND CONCLUSION      8063\n",
       "SUMMARY                        7954\n",
       "PROPOSED METHOD                8114\n",
       "DISCUSSIONS                    8103\n",
       "PERFORMANCE EVALUATION         8072\n",
       "RESULTS AND DISCUSSIONS        8096\n",
       "EXPERIMENTAL DESIGN            8070\n",
       "EXPERIMENTS AND RESULTS        8062\n",
       "RESULTS AND ANALYSIS           8139\n",
       "IMPLEMENTATION DETAILS         8128\n",
       "dtype: int64"
      ]
     },
     "execution_count": 24,
     "metadata": {
      "tags": []
     },
     "output_type": "execute_result"
    }
   ],
   "source": [
    "data.dropna(subset = ['ABSTRACT'], inplace = True)\n",
    "data.isnull().sum()"
   ]
  },
  {
   "cell_type": "code",
   "execution_count": 25,
   "metadata": {
    "colab": {
     "base_uri": "https://localhost:8080/",
     "height": 1000
    },
    "colab_type": "code",
    "id": "4vpD4SF4gjaq",
    "outputId": "f4a661dd-d026-4d40-eaa9-14d4c01f7161"
   },
   "outputs": [
    {
     "name": "stdout",
     "output_type": "stream",
     "text": [
      "SHAPE : (8196, 46)\n"
     ]
    },
    {
     "data": {
      "text/html": [
       "<div>\n",
       "<style scoped>\n",
       "    .dataframe tbody tr th:only-of-type {\n",
       "        vertical-align: middle;\n",
       "    }\n",
       "\n",
       "    .dataframe tbody tr th {\n",
       "        vertical-align: top;\n",
       "    }\n",
       "\n",
       "    .dataframe thead th {\n",
       "        text-align: right;\n",
       "    }\n",
       "</style>\n",
       "<table border=\"1\" class=\"dataframe\">\n",
       "  <thead>\n",
       "    <tr style=\"text-align: right;\">\n",
       "      <th></th>\n",
       "      <th>Unnamed: 0</th>\n",
       "      <th>MAIN-TITLE</th>\n",
       "      <th>HIGHLIGHTS</th>\n",
       "      <th>KEYPHRASES</th>\n",
       "      <th>ABSTRACT</th>\n",
       "      <th>ACKNOWLEDGEMENTS</th>\n",
       "      <th>REFERENCES</th>\n",
       "      <th>INTRODUCTION</th>\n",
       "      <th>RESULTS AND DISCUSSION</th>\n",
       "      <th>CONCLUSION</th>\n",
       "      <th>ACKNOWLEDGMENT</th>\n",
       "      <th>CONCLUSIONS</th>\n",
       "      <th>RELATED WORK</th>\n",
       "      <th>DISCUSSION</th>\n",
       "      <th>ACKNOWLEDGMENTS</th>\n",
       "      <th>OVERVIEW</th>\n",
       "      <th>DISCUSSION AND CONCLUSIONS</th>\n",
       "      <th>EXPERIMENTAL RESULTS</th>\n",
       "      <th>METHODS</th>\n",
       "      <th>RESULTS</th>\n",
       "      <th>IMPLEMENTATION</th>\n",
       "      <th>ACKNOWLEDGEMENT</th>\n",
       "      <th>MATERIAL AND METHODS</th>\n",
       "      <th>CONCLUSIONS AND FUTURE WORK</th>\n",
       "      <th>BACKGROUND</th>\n",
       "      <th>METHODOLOGY</th>\n",
       "      <th>FUTURE WORK</th>\n",
       "      <th>EXPERIMENTS</th>\n",
       "      <th>LITERATURE REVIEW</th>\n",
       "      <th>EVALUATION</th>\n",
       "      <th>RELATED WORKS</th>\n",
       "      <th>ANALYSIS</th>\n",
       "      <th>METHOD</th>\n",
       "      <th>PROCEDURE</th>\n",
       "      <th>MOTIVATION</th>\n",
       "      <th>LIMITATIONS</th>\n",
       "      <th>DISCUSSION AND CONCLUSION</th>\n",
       "      <th>SUMMARY</th>\n",
       "      <th>PROPOSED METHOD</th>\n",
       "      <th>DISCUSSIONS</th>\n",
       "      <th>PERFORMANCE EVALUATION</th>\n",
       "      <th>RESULTS AND DISCUSSIONS</th>\n",
       "      <th>EXPERIMENTAL DESIGN</th>\n",
       "      <th>EXPERIMENTS AND RESULTS</th>\n",
       "      <th>RESULTS AND ANALYSIS</th>\n",
       "      <th>IMPLEMENTATION DETAILS</th>\n",
       "    </tr>\n",
       "  </thead>\n",
       "  <tbody>\n",
       "    <tr>\n",
       "      <th>33</th>\n",
       "      <td>33</td>\n",
       "      <td>\\n</td>\n",
       "      <td>\\n\\n               \\n                  \\n                  \\n                     \\n                        \\n                           \\n                           We develop an evolutionary app...</td>\n",
       "      <td>\\nAgent based problems\\n\\nComplementarity conditions\\n\\nEvolutionary algorithm\\n\\nParallel search\\n\\n</td>\n",
       "      <td>\\n\\n               \\n               \\n                  Deterministic approaches to simultaneously solve different interrelated optimisation problems lead to a general class of nonlinear complemen...</td>\n",
       "      <td>\\nSix anonymous reviewers provided comments and suggestions that strongly improved the content and presentation of the paper. All errors or omissions are the authors alone.\\n\\n</td>\n",
       "      <td></td>\n",
       "      <td></td>\n",
       "      <td></td>\n",
       "      <td></td>\n",
       "      <td></td>\n",
       "      <td></td>\n",
       "      <td></td>\n",
       "      <td></td>\n",
       "      <td></td>\n",
       "      <td></td>\n",
       "      <td></td>\n",
       "      <td></td>\n",
       "      <td></td>\n",
       "      <td></td>\n",
       "      <td></td>\n",
       "      <td></td>\n",
       "      <td></td>\n",
       "      <td></td>\n",
       "      <td></td>\n",
       "      <td></td>\n",
       "      <td></td>\n",
       "      <td></td>\n",
       "      <td></td>\n",
       "      <td></td>\n",
       "      <td></td>\n",
       "      <td></td>\n",
       "      <td></td>\n",
       "      <td></td>\n",
       "      <td></td>\n",
       "      <td></td>\n",
       "      <td></td>\n",
       "      <td></td>\n",
       "      <td></td>\n",
       "      <td></td>\n",
       "      <td></td>\n",
       "      <td></td>\n",
       "      <td></td>\n",
       "      <td></td>\n",
       "      <td></td>\n",
       "      <td></td>\n",
       "    </tr>\n",
       "    <tr>\n",
       "      <th>197</th>\n",
       "      <td>197</td>\n",
       "      <td>\\n</td>\n",
       "      <td>\\n\\n               \\n               \\n                  \\n                     \\n                        \\n                           \\n                           The aggregated artificial neural ...</td>\n",
       "      <td>\\nScaffolds\\n\\n3D printer\\n\\nAggregated artificial neural network (AANN)\\n\\nParticle swarm optimization (PSO)\\n\\nPorous structure\\n\\nMechanical strength\\n\\n</td>\n",
       "      <td>\\n\\n               \\n               \\n                  Fabrication of three-dimensional structures has gained increasing importance in the bone tissue engineering (BTE) field. Mechanical properti...</td>\n",
       "      <td></td>\n",
       "      <td></td>\n",
       "      <td>\\nAdditive manufacturing (AM) is a layer-over-layer manufacturing technique. In most cases, enables complex components to be manufactured that are difficult to fabricate or cannot be made using co...</td>\n",
       "      <td>\\nIn this section, a predictive model for 3DP process is extracted. The model predicts the mechanical strength, and the open porosity of a part fabricated using this process. Mechanical strength a...</td>\n",
       "      <td>\\nIn this study, the AANN was used to investigate the simultaneous effects of layer thickness, delay time between spreading each layer, and print orientation on the compressive strength and porosi...</td>\n",
       "      <td>\\nThis study was supported by the High Impact Research Grant from the Ministry of Higher Education of Malaysia (UM.C/HIR/MOHE/ENG/10 D000010-16001).\\n\\n</td>\n",
       "      <td></td>\n",
       "      <td></td>\n",
       "      <td></td>\n",
       "      <td></td>\n",
       "      <td></td>\n",
       "      <td></td>\n",
       "      <td></td>\n",
       "      <td></td>\n",
       "      <td></td>\n",
       "      <td></td>\n",
       "      <td></td>\n",
       "      <td></td>\n",
       "      <td></td>\n",
       "      <td></td>\n",
       "      <td></td>\n",
       "      <td></td>\n",
       "      <td></td>\n",
       "      <td></td>\n",
       "      <td></td>\n",
       "      <td></td>\n",
       "      <td></td>\n",
       "      <td></td>\n",
       "      <td></td>\n",
       "      <td></td>\n",
       "      <td></td>\n",
       "      <td></td>\n",
       "      <td></td>\n",
       "      <td></td>\n",
       "      <td></td>\n",
       "      <td></td>\n",
       "      <td></td>\n",
       "      <td></td>\n",
       "      <td></td>\n",
       "      <td></td>\n",
       "      <td></td>\n",
       "    </tr>\n",
       "    <tr>\n",
       "      <th>220</th>\n",
       "      <td>220</td>\n",
       "      <td>\\n</td>\n",
       "      <td>\\n\\n               \\n                  \\n                  \\n                     \\n                        \\n                           \\n                           A stochastic global optimizati...</td>\n",
       "      <td>\\nOpen pit mine design\\n\\nGlobal optimization\\n\\nProduction scheduling\\n\\nMetaheuristics\\n\\nDestination policy\\n\\n</td>\n",
       "      <td>\\n\\n               \\n               \\n                  Global optimization for mining complexes aims to generate a production schedule for the various mines and processing streams that maximizes ...</td>\n",
       "      <td>\\nThe work in this paper was funded by NSERC CRD 411270, NSERC Discovery Grant 239019, and the industry members of the COSMO Stochastic Mine Planning Laboratory: AngloGold Ashanti, Barrick Gold, B...</td>\n",
       "      <td></td>\n",
       "      <td>\\nGlobal optimization for mining complexes addresses the issue of integrated mining and processing operations with multiple pits or underground mines, multiple metals or minerals, stockpiles, blen...</td>\n",
       "      <td></td>\n",
       "      <td></td>\n",
       "      <td></td>\n",
       "      <td>\\nThis work presents a framework for global asset optimization of mining complexes under uncertainty, whereby the solutions provide robust long-term open-pit mine extraction sequences and destinat...</td>\n",
       "      <td></td>\n",
       "      <td></td>\n",
       "      <td></td>\n",
       "      <td></td>\n",
       "      <td></td>\n",
       "      <td></td>\n",
       "      <td></td>\n",
       "      <td></td>\n",
       "      <td></td>\n",
       "      <td></td>\n",
       "      <td></td>\n",
       "      <td></td>\n",
       "      <td></td>\n",
       "      <td></td>\n",
       "      <td></td>\n",
       "      <td></td>\n",
       "      <td></td>\n",
       "      <td></td>\n",
       "      <td></td>\n",
       "      <td></td>\n",
       "      <td></td>\n",
       "      <td></td>\n",
       "      <td></td>\n",
       "      <td></td>\n",
       "      <td></td>\n",
       "      <td></td>\n",
       "      <td></td>\n",
       "      <td></td>\n",
       "      <td></td>\n",
       "      <td></td>\n",
       "      <td></td>\n",
       "      <td></td>\n",
       "      <td></td>\n",
       "      <td></td>\n",
       "    </tr>\n",
       "    <tr>\n",
       "      <th>287</th>\n",
       "      <td>287</td>\n",
       "      <td>\\n</td>\n",
       "      <td>\\n\\n               \\n                  \\n                  \\n                     \\n                        \\n                           \\n                           High-dimensional biological da...</td>\n",
       "      <td>\\nFuzzy systems\\n\\nSupport vector regression\\n\\nPeptide binding affinity\\n\\n</td>\n",
       "      <td>\\n\\n               \\n               \\n                  Support vector machines have a wide use for the prediction problems in life sciences. It has been shown to offer more generalisation ability...</td>\n",
       "      <td>\\nDuring this study, Volkan Uslan was funded by De Montfort University Leicester with full PhD tuition fee scholarship. The authors thank to Dr Ovidiu Ivanciuc for organising the CoEPrA contest th...</td>\n",
       "      <td></td>\n",
       "      <td>\\nPeptide binding plays vital roles in the molecular biology of the cell. The process of the peptide binding can activate the cytotoxic T-cells in the immune system [1]. One of the most challengin...</td>\n",
       "      <td></td>\n",
       "      <td></td>\n",
       "      <td></td>\n",
       "      <td>\\nIn this paper, a hybrid system (TSK-SVR) that has helped improve the predictive ability of TSK-FS significantly with the aid of support-based vector method was developed and demonstrated with th...</td>\n",
       "      <td></td>\n",
       "      <td></td>\n",
       "      <td></td>\n",
       "      <td></td>\n",
       "      <td></td>\n",
       "      <td></td>\n",
       "      <td></td>\n",
       "      <td></td>\n",
       "      <td></td>\n",
       "      <td></td>\n",
       "      <td></td>\n",
       "      <td></td>\n",
       "      <td></td>\n",
       "      <td></td>\n",
       "      <td></td>\n",
       "      <td></td>\n",
       "      <td></td>\n",
       "      <td></td>\n",
       "      <td></td>\n",
       "      <td></td>\n",
       "      <td></td>\n",
       "      <td></td>\n",
       "      <td></td>\n",
       "      <td></td>\n",
       "      <td></td>\n",
       "      <td></td>\n",
       "      <td></td>\n",
       "      <td></td>\n",
       "      <td></td>\n",
       "      <td></td>\n",
       "      <td></td>\n",
       "      <td></td>\n",
       "      <td></td>\n",
       "      <td></td>\n",
       "    </tr>\n",
       "    <tr>\n",
       "      <th>298</th>\n",
       "      <td>298</td>\n",
       "      <td>\\n</td>\n",
       "      <td>\\n\\n               \\n                  \\n                  \\n                     \\n                        \\n                           \\n                           Few graph layout methods captu...</td>\n",
       "      <td>\\nSmall world networks\\n\\nAdjacency matrix\\n\\nNode attributes\\n\\nGraph visualization\\n\\nTargeted projection pursuit\\n\\n</td>\n",
       "      <td>\\n\\n               \\n               \\n                  Many networks exhibit small-world properties. The structure of a small-world network is characterized by short average path lengths and high...</td>\n",
       "      <td></td>\n",
       "      <td></td>\n",
       "      <td>\\nSmall-world networks are a commonly occurring graph structure characterized by short average path lengths and high clustering coefficients [1]. This means that even when the network is large the...</td>\n",
       "      <td></td>\n",
       "      <td></td>\n",
       "      <td></td>\n",
       "      <td>\\nThis paper has presented an extension to the small-worlds pilot study presented in Gibson and Faith [8] where graphTPP was used to lay out a small-world network using node attributes. In this ca...</td>\n",
       "      <td>\\nSmall-world networks are characterized by short average path lengths (the shortest path between any pair of nodes) and high clustering coefficients (e.g., in social networks this would be the nu...</td>\n",
       "      <td>\\nThe structure of a small-world network should make it perfectly suited to visualization. Representing the communities that form within the graph should be a principal aim for layout if we want t...</td>\n",
       "      <td></td>\n",
       "      <td></td>\n",
       "      <td></td>\n",
       "      <td></td>\n",
       "      <td></td>\n",
       "      <td></td>\n",
       "      <td></td>\n",
       "      <td></td>\n",
       "      <td></td>\n",
       "      <td></td>\n",
       "      <td></td>\n",
       "      <td></td>\n",
       "      <td></td>\n",
       "      <td></td>\n",
       "      <td></td>\n",
       "      <td></td>\n",
       "      <td></td>\n",
       "      <td></td>\n",
       "      <td></td>\n",
       "      <td></td>\n",
       "      <td></td>\n",
       "      <td></td>\n",
       "      <td></td>\n",
       "      <td></td>\n",
       "      <td></td>\n",
       "      <td></td>\n",
       "      <td></td>\n",
       "      <td></td>\n",
       "      <td></td>\n",
       "      <td></td>\n",
       "      <td></td>\n",
       "      <td></td>\n",
       "    </tr>\n",
       "  </tbody>\n",
       "</table>\n",
       "</div>"
      ],
      "text/plain": [
       "     Unnamed: 0 MAIN-TITLE  ... RESULTS AND ANALYSIS IMPLEMENTATION DETAILS\n",
       "33           33         \\n  ...                                            \n",
       "197         197         \\n  ...                                            \n",
       "220         220         \\n  ...                                            \n",
       "287         287         \\n  ...                                            \n",
       "298         298         \\n  ...                                            \n",
       "\n",
       "[5 rows x 46 columns]"
      ]
     },
     "execution_count": 25,
     "metadata": {
      "tags": []
     },
     "output_type": "execute_result"
    }
   ],
   "source": [
    "data.fillna(value = \"\", inplace= True)\n",
    "print(\"SHAPE : \"+ str(data.shape))\n",
    "data.head()\n"
   ]
  },
  {
   "cell_type": "code",
   "execution_count": 26,
   "metadata": {
    "colab": {
     "base_uri": "https://localhost:8080/",
     "height": 289
    },
    "colab_type": "code",
    "id": "KHIrxK3phVNE",
    "outputId": "09aa4931-87e0-4590-f9f5-4d36d890899f"
   },
   "outputs": [
    {
     "data": {
      "text/plain": [
       "Index(['Unnamed: 0', 'MAIN-TITLE', 'HIGHLIGHTS', 'KEYPHRASES', 'ABSTRACT',\n",
       "       'ACKNOWLEDGEMENTS', 'REFERENCES', 'INTRODUCTION',\n",
       "       'RESULTS AND DISCUSSION', 'CONCLUSION', 'ACKNOWLEDGMENT', 'CONCLUSIONS',\n",
       "       'RELATED WORK', 'DISCUSSION', 'ACKNOWLEDGMENTS', 'OVERVIEW',\n",
       "       'DISCUSSION AND CONCLUSIONS', 'EXPERIMENTAL RESULTS', 'METHODS',\n",
       "       'RESULTS', 'IMPLEMENTATION', 'ACKNOWLEDGEMENT', 'MATERIAL AND METHODS',\n",
       "       'CONCLUSIONS AND FUTURE WORK', 'BACKGROUND', 'METHODOLOGY',\n",
       "       'FUTURE WORK', 'EXPERIMENTS', 'LITERATURE REVIEW', 'EVALUATION',\n",
       "       'RELATED WORKS', 'ANALYSIS', 'METHOD', 'PROCEDURE', 'MOTIVATION',\n",
       "       'LIMITATIONS', 'DISCUSSION AND CONCLUSION', 'SUMMARY',\n",
       "       'PROPOSED METHOD', 'DISCUSSIONS', 'PERFORMANCE EVALUATION',\n",
       "       'RESULTS AND DISCUSSIONS', 'EXPERIMENTAL DESIGN',\n",
       "       'EXPERIMENTS AND RESULTS', 'RESULTS AND ANALYSIS',\n",
       "       'IMPLEMENTATION DETAILS'],\n",
       "      dtype='object')"
      ]
     },
     "execution_count": 26,
     "metadata": {
      "tags": []
     },
     "output_type": "execute_result"
    }
   ],
   "source": [
    "data.columns\n"
   ]
  },
  {
   "cell_type": "code",
   "execution_count": 0,
   "metadata": {
    "colab": {},
    "colab_type": "code",
    "id": "MsiuC_VKr7vk"
   },
   "outputs": [],
   "source": [
    "data.to_csv('/content/drive/My Drive/dataset1.csv',index = False, header = True)"
   ]
  },
  {
   "cell_type": "code",
   "execution_count": 28,
   "metadata": {
    "colab": {
     "base_uri": "https://localhost:8080/",
     "height": 204
    },
    "colab_type": "code",
    "id": "b6bGFlDjov8p",
    "outputId": "1e1a4e60-a753-4c68-f95e-870d309366a8"
   },
   "outputs": [
    {
     "data": {
      "text/plain": [
       "Index(['Unnamed: 0', 'MAIN-TITLE', 'HIGHLIGHTS', 'KEYPHRASES', 'ABSTRACT',\n",
       "       'ACKNOWLEDGEMENTS', 'REFERENCES', 'INTRODUCTION', 'RELATED WORK',\n",
       "       'OVERVIEW', 'METHODS', 'IMPLEMENTATION', 'MATERIAL AND METHODS',\n",
       "       'BACKGROUND', 'METHODOLOGY', 'EXPERIMENTS', 'LITERATURE REVIEW',\n",
       "       'EVALUATION', 'RELATED WORKS', 'ANALYSIS', 'METHOD', 'PROCEDURE',\n",
       "       'MOTIVATION', 'LIMITATIONS', 'DISCUSSION AND CONCLUSION',\n",
       "       'PROPOSED METHOD', 'PERFORMANCE EVALUATION', 'EXPERIMENTAL DESIGN',\n",
       "       'EXPERIMENTS AND RESULTS', 'IMPLEMENTATION DETAILS',\n",
       "       'RESULT | CONCLUSION | DISCUSSION'],\n",
       "      dtype='object')"
      ]
     },
     "execution_count": 28,
     "metadata": {
      "tags": []
     },
     "output_type": "execute_result"
    }
   ],
   "source": [
    "#df['combined'] = df[cols].apply(lambda row: '_'.join(row.values.astype(str)), axis=1)\n",
    "data['ACKNOWLEDGEMENTS'] = data['ACKNOWLEDGEMENTS'] + data['ACKNOWLEDGEMENT']\n",
    "data['ACKNOWLEDGEMENTS'] = data['ACKNOWLEDGEMENTS']+data['ACKNOWLEDGEMENT']\n",
    "data['ACKNOWLEDGEMENTS'] = data['ACKNOWLEDGEMENTS']+data['ACKNOWLEDGMENTS']\n",
    "data.drop(['ACKNOWLEDGMENT','ACKNOWLEDGEMENT','ACKNOWLEDGMENTS'],axis = 1,inplace= True)\n",
    "\n",
    "data['RESULT | CONCLUSION | DISCUSSION'] = data['RESULTS AND DISCUSSION']+data['CONCLUSION']+data['CONCLUSIONS']+data['DISCUSSION']+data['DISCUSSION AND CONCLUSIONS']+data['EXPERIMENTAL RESULTS'] + data['RESULTS']+data['CONCLUSIONS AND FUTURE WORK']+data['FUTURE WORK']+data['SUMMARY']+data['DISCUSSIONS']+data['RESULTS AND DISCUSSIONS']+data['RESULTS AND ANALYSIS']\n",
    "data.drop(['RESULTS AND DISCUSSION','CONCLUSION','CONCLUSIONS','DISCUSSION','DISCUSSION AND CONCLUSIONS','EXPERIMENTAL RESULTS','RESULTS','CONCLUSIONS AND FUTURE WORK','FUTURE WORK','SUMMARY','DISCUSSIONS','RESULTS AND DISCUSSIONS','RESULTS AND ANALYSIS'],axis =1 ,inplace = True)\n",
    "\n",
    "data.columns\n"
   ]
  },
  {
   "cell_type": "code",
   "execution_count": 29,
   "metadata": {
    "colab": {
     "base_uri": "https://localhost:8080/",
     "height": 51
    },
    "colab_type": "code",
    "id": "yZnezH2nywpB",
    "outputId": "b2a283cd-6f3e-4245-8f51-2b7f98464be7"
   },
   "outputs": [
    {
     "data": {
      "text/plain": [
       "(8196, 28)"
      ]
     },
     "execution_count": 29,
     "metadata": {
      "tags": []
     },
     "output_type": "execute_result"
    }
   ],
   "source": [
    "data['METHOD'] = data['METHODS']+data['MATERIAL AND METHODS']+data['METHODOLOGY']+data['METHOD']\n",
    "data.drop(['MATERIAL AND METHODS','METHODOLOGY','METHODS'],axis = 1, inplace = True)\n",
    "data.shape"
   ]
  },
  {
   "cell_type": "code",
   "execution_count": 30,
   "metadata": {
    "colab": {
     "base_uri": "https://localhost:8080/",
     "height": 204
    },
    "colab_type": "code",
    "id": "FHogqT7joOA1",
    "outputId": "71352395-2b83-4398-919e-9d7aeb7a87bf"
   },
   "outputs": [
    {
     "data": {
      "text/plain": [
       "Index(['Unnamed: 0', 'MAIN-TITLE', 'HIGHLIGHTS', 'KEYPHRASES', 'ABSTRACT',\n",
       "       'ACKNOWLEDGEMENTS', 'REFERENCES', 'INTRODUCTION', 'RELATED WORK',\n",
       "       'OVERVIEW', 'IMPLEMENTATION', 'BACKGROUND', 'EXPERIMENTS',\n",
       "       'LITERATURE REVIEW', 'EVALUATION', 'RELATED WORKS', 'ANALYSIS',\n",
       "       'METHOD', 'PROCEDURE', 'MOTIVATION', 'LIMITATIONS',\n",
       "       'DISCUSSION AND CONCLUSION', 'PROPOSED METHOD',\n",
       "       'PERFORMANCE EVALUATION', 'EXPERIMENTAL DESIGN',\n",
       "       'EXPERIMENTS AND RESULTS', 'IMPLEMENTATION DETAILS',\n",
       "       'RESULT | CONCLUSION | DISCUSSION'],\n",
       "      dtype='object')"
      ]
     },
     "execution_count": 30,
     "metadata": {
      "tags": []
     },
     "output_type": "execute_result"
    }
   ],
   "source": [
    "data.columns"
   ]
  },
  {
   "cell_type": "code",
   "execution_count": 0,
   "metadata": {
    "colab": {},
    "colab_type": "code",
    "id": "QhsUoQ7PwYso"
   },
   "outputs": [],
   "source": [
    "data['METHOD'] = data['METHOD'] + data['PROPOSED METHOD']\n",
    "data['RESULT | CONCLUSION | DISCUSSION'] = data['RESULT | CONCLUSION | DISCUSSION'] + data['PERFORMANCE EVALUATION'] + data['ANALYSIS'] + data['EXPERIMENTS AND RESULTS']\n",
    "data['IMPLEMENTATION'] = data['IMPLEMENTATION'] + data['IMPLEMENTATION DETAILS'] + data['PROCEDURE'] \n",
    "data['RELATED WORK'] = data['RELATED WORK'] + data['RELATED WORKS'] + data['LITERATURE REVIEW'] + data['BACKGROUND']  \n",
    "\n",
    "data.drop(['PROPOSED METHOD','PERFORMANCE EVALUATION','ANALYSIS','EXPERIMENTS AND RESULTS','IMPLEMENTATION DETAILS','PROCEDURE','RELATED WORKS','LITERATURE REVIEW','BACKGROUND'],axis = 1,inplace = True)"
   ]
  },
  {
   "cell_type": "code",
   "execution_count": 0,
   "metadata": {
    "colab": {},
    "colab_type": "code",
    "id": "zqrcK6w-3R6x"
   },
   "outputs": [],
   "source": [
    "data.to_csv('/content/drive/My Drive/dataset1.csv',index = False, header = True)\n"
   ]
  },
  {
   "cell_type": "code",
   "execution_count": 35,
   "metadata": {
    "colab": {
     "base_uri": "https://localhost:8080/",
     "height": 136
    },
    "colab_type": "code",
    "id": "rIeip7jl4fFZ",
    "outputId": "82e04cdf-8971-4d49-f351-bf208dbec04b"
   },
   "outputs": [
    {
     "data": {
      "text/plain": [
       "Index(['Unnamed: 0', 'MAIN-TITLE', 'HIGHLIGHTS', 'KEYPHRASES', 'ABSTRACT',\n",
       "       'ACKNOWLEDGEMENTS', 'REFERENCES', 'INTRODUCTION', 'RELATED WORK',\n",
       "       'OVERVIEW', 'IMPLEMENTATION', 'EXPERIMENTS', 'EVALUATION', 'METHOD',\n",
       "       'MOTIVATION', 'LIMITATIONS', 'DISCUSSION AND CONCLUSION',\n",
       "       'EXPERIMENTAL DESIGN', 'RESULT | CONCLUSION | DISCUSSION'],\n",
       "      dtype='object')"
      ]
     },
     "execution_count": 35,
     "metadata": {
      "tags": []
     },
     "output_type": "execute_result"
    }
   ],
   "source": [
    "data.columns"
   ]
  },
  {
   "cell_type": "code",
   "execution_count": 0,
   "metadata": {
    "colab": {},
    "colab_type": "code",
    "id": "MCYgrs2i4Wla"
   },
   "outputs": [],
   "source": [
    "data['RESULT | CONCLUSION | DISCUSSION'] = data['RESULT | CONCLUSION | DISCUSSION'] + data['DISCUSSION AND CONCLUSION'] + data['EVALUATION']\n",
    "data['EXPERIMENTS'] = data['EXPERIMENTS'] + data['EXPERIMENTAL DESIGN']\n",
    "\n",
    "data.drop(['DISCUSSION AND CONCLUSION','EVALUATION','EXPERIMENTS','EXPERIMENTAL DESIGN'],axis = 1, inplace = True)"
   ]
  },
  {
   "cell_type": "code",
   "execution_count": 37,
   "metadata": {
    "colab": {
     "base_uri": "https://localhost:8080/",
     "height": 136
    },
    "colab_type": "code",
    "id": "L9wWHb22501m",
    "outputId": "3b97fcd1-01e6-40c8-966e-c76c711d32f7"
   },
   "outputs": [
    {
     "name": "stdout",
     "output_type": "stream",
     "text": [
      "(8196, 15)\n"
     ]
    },
    {
     "data": {
      "text/plain": [
       "Index(['Unnamed: 0', 'MAIN-TITLE', 'HIGHLIGHTS', 'KEYPHRASES', 'ABSTRACT',\n",
       "       'ACKNOWLEDGEMENTS', 'REFERENCES', 'INTRODUCTION', 'RELATED WORK',\n",
       "       'OVERVIEW', 'IMPLEMENTATION', 'METHOD', 'MOTIVATION', 'LIMITATIONS',\n",
       "       'RESULT | CONCLUSION | DISCUSSION'],\n",
       "      dtype='object')"
      ]
     },
     "execution_count": 37,
     "metadata": {
      "tags": []
     },
     "output_type": "execute_result"
    }
   ],
   "source": [
    "print(data.shape)\n",
    "data.columns"
   ]
  },
  {
   "cell_type": "code",
   "execution_count": 0,
   "metadata": {
    "colab": {},
    "colab_type": "code",
    "id": "E1u2ZPz758yW"
   },
   "outputs": [],
   "source": [
    "data['BODY'] = data['INTRODUCTION']+data['RELATED WORK']+data['OVERVIEW']+data['MOTIVATION'] "
   ]
  },
  {
   "cell_type": "code",
   "execution_count": 0,
   "metadata": {
    "colab": {},
    "colab_type": "code",
    "id": "sO0L7PF26R-x"
   },
   "outputs": [],
   "source": [
    "data.to_csv('/content/drive/My Drive/dataset1.csv',index = False, header = True)\n"
   ]
  },
  {
   "cell_type": "code",
   "execution_count": 0,
   "metadata": {
    "colab": {},
    "colab_type": "code",
    "id": "_T-WPfu-7B5L"
   },
   "outputs": [],
   "source": [
    "data['Body_LENGTH'] = data.apply(lambda row: len(row['BODY']),axis = 1)"
   ]
  },
  {
   "cell_type": "code",
   "execution_count": 0,
   "metadata": {
    "colab": {},
    "colab_type": "code",
    "id": "nJdxYmNT7nUn"
   },
   "outputs": [],
   "source": [
    "data.to_csv('/content/drive/My Drive/dataset1.csv',index = False, header = True)\n"
   ]
  }
 ],
 "metadata": {
  "colab": {
   "collapsed_sections": [],
   "name": "Abstract Generator DataFormatting",
   "provenance": []
  },
  "kernelspec": {
   "display_name": "Python 3",
   "language": "python",
   "name": "python3"
  },
  "language_info": {
   "codemirror_mode": {
    "name": "ipython",
    "version": 3
   },
   "file_extension": ".py",
   "mimetype": "text/x-python",
   "name": "python",
   "nbconvert_exporter": "python",
   "pygments_lexer": "ipython3",
   "version": "3.7.3"
  }
 },
 "nbformat": 4,
 "nbformat_minor": 1
}
