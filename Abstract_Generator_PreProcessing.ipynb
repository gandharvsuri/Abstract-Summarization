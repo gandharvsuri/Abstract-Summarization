{
 "cells": [
  {
   "cell_type": "markdown",
   "metadata": {},
   "source": [
    "### Pre Processing"
   ]
  },
  {
   "cell_type": "code",
   "execution_count": 2,
   "metadata": {
    "colab": {
     "base_uri": "https://localhost:8080/",
     "height": 51
    },
    "colab_type": "code",
    "id": "8yRN30hAWKGQ",
    "outputId": "f923fb3e-a5e2-4369-b13d-b724038e85c8"
   },
   "outputs": [
    {
     "name": "stdout",
     "output_type": "stream",
     "text": [
      "Requirement already satisfied: tqdm==4.36.1 in /usr/local/lib/python3.6/dist-packages (4.36.1)\n"
     ]
    }
   ],
   "source": [
    "# tqdm version 4.36.1 is required\n",
    "\n",
    "\n",
    "!pip install tqdm==4.36.1"
   ]
  },
  {
   "cell_type": "code",
   "execution_count": 3,
   "metadata": {
    "colab": {
     "base_uri": "https://localhost:8080/",
     "height": 51
    },
    "colab_type": "code",
    "id": "AxlIcG9tWV1Y",
    "outputId": "517c3345-9ee7-489b-eb38-2586f2d8dea3"
   },
   "outputs": [
    {
     "name": "stdout",
     "output_type": "stream",
     "text": [
      "Drive already mounted at /content/drive; to attempt to forcibly remount, call drive.mount(\"/content/drive\", force_remount=True).\n"
     ]
    }
   ],
   "source": [
    "# Mounting Drive\n",
    "\n",
    "\n",
    "from google.colab import drive\n",
    "drive.mount('/content/drive')"
   ]
  },
  {
   "cell_type": "code",
   "execution_count": 4,
   "metadata": {
    "colab": {
     "base_uri": "https://localhost:8080/",
     "height": 85
    },
    "colab_type": "code",
    "id": "oeYeuULxWb4Z",
    "outputId": "db93301e-6634-4d01-d4e8-77f4d4021c62"
   },
   "outputs": [
    {
     "name": "stderr",
     "output_type": "stream",
     "text": [
      "Using TensorFlow backend.\n"
     ]
    },
    {
     "name": "stdout",
     "output_type": "stream",
     "text": [
      "[nltk_data] Downloading package stopwords to /root/nltk_data...\n",
      "[nltk_data]   Package stopwords is already up-to-date!\n"
     ]
    }
   ],
   "source": [
    "# Importing Libaries\n",
    "\n",
    "\n",
    "import numpy as np  \n",
    "import pandas as pd \n",
    "import re           \n",
    "import glob\n",
    "from bs4 import BeautifulSoup \n",
    "from keras.preprocessing.text import Tokenizer \n",
    "from keras.preprocessing.sequence import pad_sequences\n",
    "from nltk.corpus import stopwords   \n",
    "from tensorflow.keras.layers import Input, LSTM, Embedding, Dense, Concatenate, TimeDistributed, Bidirectional\n",
    "from tensorflow.keras.models import Model\n",
    "from tensorflow.keras.callbacks import EarlyStopping\n",
    "from tensorflow.keras.models import load_model\n",
    "import keras\n",
    "import warnings\n",
    "import nltk\n",
    "nltk.download('stopwords')\n",
    "pd.set_option(\"display.max_colwidth\", 200)\n",
    "warnings.filterwarnings(\"ignore\")"
   ]
  },
  {
   "cell_type": "code",
   "execution_count": 0,
   "metadata": {
    "colab": {},
    "colab_type": "code",
    "id": "TkenhppLWg-B"
   },
   "outputs": [],
   "source": [
    "# Progress bar\n",
    "\n",
    "\n",
    "from tqdm import tqdm\n",
    "tqdm.pandas()"
   ]
  },
  {
   "cell_type": "code",
   "execution_count": 6,
   "metadata": {
    "colab": {
     "base_uri": "https://localhost:8080/",
     "height": 1000
    },
    "colab_type": "code",
    "id": "M25zNardWsRI",
    "outputId": "720406c3-458b-49f4-c525-ed76fd4b7dd7"
   },
   "outputs": [
    {
     "data": {
      "text/html": [
       "<div>\n",
       "<style scoped>\n",
       "    .dataframe tbody tr th:only-of-type {\n",
       "        vertical-align: middle;\n",
       "    }\n",
       "\n",
       "    .dataframe tbody tr th {\n",
       "        vertical-align: top;\n",
       "    }\n",
       "\n",
       "    .dataframe thead th {\n",
       "        text-align: right;\n",
       "    }\n",
       "</style>\n",
       "<table border=\"1\" class=\"dataframe\">\n",
       "  <thead>\n",
       "    <tr style=\"text-align: right;\">\n",
       "      <th></th>\n",
       "      <th>Unnamed: 0</th>\n",
       "      <th>MAIN-TITLE</th>\n",
       "      <th>HIGHLIGHTS</th>\n",
       "      <th>KEYPHRASES</th>\n",
       "      <th>ABSTRACT</th>\n",
       "      <th>ACKNOWLEDGEMENTS</th>\n",
       "      <th>REFERENCES</th>\n",
       "      <th>INTRODUCTION</th>\n",
       "      <th>RELATED WORK</th>\n",
       "      <th>OVERVIEW</th>\n",
       "      <th>IMPLEMENTATION</th>\n",
       "      <th>METHOD</th>\n",
       "      <th>MOTIVATION</th>\n",
       "      <th>LIMITATIONS</th>\n",
       "      <th>RESULT | CONCLUSION | DISCUSSION</th>\n",
       "      <th>BODY</th>\n",
       "      <th>Body_LENGTH</th>\n",
       "    </tr>\n",
       "  </thead>\n",
       "  <tbody>\n",
       "    <tr>\n",
       "      <th>0</th>\n",
       "      <td>33</td>\n",
       "      <td>\\n</td>\n",
       "      <td>\\n\\n               \\n                  \\n                  \\n                     \\n                        \\n                           \\n                           We develop an evolutionary app...</td>\n",
       "      <td>\\nAgent based problems\\n\\nComplementarity conditions\\n\\nEvolutionary algorithm\\n\\nParallel search\\n\\n</td>\n",
       "      <td>\\n\\n               \\n               \\n                  Deterministic approaches to simultaneously solve different interrelated optimisation problems lead to a general class of nonlinear complemen...</td>\n",
       "      <td>\\nSix anonymous reviewers provided comments and suggestions that strongly improved the content and presentation of the paper. All errors or omissions are the authors alone.\\n\\n</td>\n",
       "      <td>NaN</td>\n",
       "      <td>NaN</td>\n",
       "      <td>NaN</td>\n",
       "      <td>NaN</td>\n",
       "      <td>NaN</td>\n",
       "      <td>NaN</td>\n",
       "      <td>NaN</td>\n",
       "      <td>NaN</td>\n",
       "      <td>NaN</td>\n",
       "      <td>NaN</td>\n",
       "      <td>0</td>\n",
       "    </tr>\n",
       "    <tr>\n",
       "      <th>1</th>\n",
       "      <td>197</td>\n",
       "      <td>\\n</td>\n",
       "      <td>\\n\\n               \\n               \\n                  \\n                     \\n                        \\n                           \\n                           The aggregated artificial neural ...</td>\n",
       "      <td>\\nScaffolds\\n\\n3D printer\\n\\nAggregated artificial neural network (AANN)\\n\\nParticle swarm optimization (PSO)\\n\\nPorous structure\\n\\nMechanical strength\\n\\n</td>\n",
       "      <td>\\n\\n               \\n               \\n                  Fabrication of three-dimensional structures has gained increasing importance in the bone tissue engineering (BTE) field. Mechanical properti...</td>\n",
       "      <td>NaN</td>\n",
       "      <td>NaN</td>\n",
       "      <td>\\nAdditive manufacturing (AM) is a layer-over-layer manufacturing technique. In most cases, enables complex components to be manufactured that are difficult to fabricate or cannot be made using co...</td>\n",
       "      <td>NaN</td>\n",
       "      <td>NaN</td>\n",
       "      <td>NaN</td>\n",
       "      <td>NaN</td>\n",
       "      <td>NaN</td>\n",
       "      <td>NaN</td>\n",
       "      <td>\\nIn this section, a predictive model for 3DP process is extracted. The model predicts the mechanical strength, and the open porosity of a part fabricated using this process. Mechanical strength a...</td>\n",
       "      <td>\\nAdditive manufacturing (AM) is a layer-over-layer manufacturing technique. In most cases, enables complex components to be manufactured that are difficult to fabricate or cannot be made using co...</td>\n",
       "      <td>76648</td>\n",
       "    </tr>\n",
       "    <tr>\n",
       "      <th>2</th>\n",
       "      <td>220</td>\n",
       "      <td>\\n</td>\n",
       "      <td>\\n\\n               \\n                  \\n                  \\n                     \\n                        \\n                           \\n                           A stochastic global optimizati...</td>\n",
       "      <td>\\nOpen pit mine design\\n\\nGlobal optimization\\n\\nProduction scheduling\\n\\nMetaheuristics\\n\\nDestination policy\\n\\n</td>\n",
       "      <td>\\n\\n               \\n               \\n                  Global optimization for mining complexes aims to generate a production schedule for the various mines and processing streams that maximizes ...</td>\n",
       "      <td>\\nThe work in this paper was funded by NSERC CRD 411270, NSERC Discovery Grant 239019, and the industry members of the COSMO Stochastic Mine Planning Laboratory: AngloGold Ashanti, Barrick Gold, B...</td>\n",
       "      <td>NaN</td>\n",
       "      <td>\\nGlobal optimization for mining complexes addresses the issue of integrated mining and processing operations with multiple pits or underground mines, multiple metals or minerals, stockpiles, blen...</td>\n",
       "      <td>NaN</td>\n",
       "      <td>NaN</td>\n",
       "      <td>NaN</td>\n",
       "      <td>NaN</td>\n",
       "      <td>NaN</td>\n",
       "      <td>NaN</td>\n",
       "      <td>\\nThis work presents a framework for global asset optimization of mining complexes under uncertainty, whereby the solutions provide robust long-term open-pit mine extraction sequences and destinat...</td>\n",
       "      <td>\\nGlobal optimization for mining complexes addresses the issue of integrated mining and processing operations with multiple pits or underground mines, multiple metals or minerals, stockpiles, blen...</td>\n",
       "      <td>158323</td>\n",
       "    </tr>\n",
       "    <tr>\n",
       "      <th>3</th>\n",
       "      <td>287</td>\n",
       "      <td>\\n</td>\n",
       "      <td>\\n\\n               \\n                  \\n                  \\n                     \\n                        \\n                           \\n                           High-dimensional biological da...</td>\n",
       "      <td>\\nFuzzy systems\\n\\nSupport vector regression\\n\\nPeptide binding affinity\\n\\n</td>\n",
       "      <td>\\n\\n               \\n               \\n                  Support vector machines have a wide use for the prediction problems in life sciences. It has been shown to offer more generalisation ability...</td>\n",
       "      <td>\\nDuring this study, Volkan Uslan was funded by De Montfort University Leicester with full PhD tuition fee scholarship. The authors thank to Dr Ovidiu Ivanciuc for organising the CoEPrA contest th...</td>\n",
       "      <td>NaN</td>\n",
       "      <td>\\nPeptide binding plays vital roles in the molecular biology of the cell. The process of the peptide binding can activate the cytotoxic T-cells in the immune system [1]. One of the most challengin...</td>\n",
       "      <td>NaN</td>\n",
       "      <td>NaN</td>\n",
       "      <td>NaN</td>\n",
       "      <td>NaN</td>\n",
       "      <td>NaN</td>\n",
       "      <td>NaN</td>\n",
       "      <td>\\nIn this paper, a hybrid system (TSK-SVR) that has helped improve the predictive ability of TSK-FS significantly with the aid of support-based vector method was developed and demonstrated with th...</td>\n",
       "      <td>\\nPeptide binding plays vital roles in the molecular biology of the cell. The process of the peptide binding can activate the cytotoxic T-cells in the immune system [1]. One of the most challengin...</td>\n",
       "      <td>58869</td>\n",
       "    </tr>\n",
       "    <tr>\n",
       "      <th>4</th>\n",
       "      <td>298</td>\n",
       "      <td>\\n</td>\n",
       "      <td>\\n\\n               \\n                  \\n                  \\n                     \\n                        \\n                           \\n                           Few graph layout methods captu...</td>\n",
       "      <td>\\nSmall world networks\\n\\nAdjacency matrix\\n\\nNode attributes\\n\\nGraph visualization\\n\\nTargeted projection pursuit\\n\\n</td>\n",
       "      <td>\\n\\n               \\n               \\n                  Many networks exhibit small-world properties. The structure of a small-world network is characterized by short average path lengths and high...</td>\n",
       "      <td>NaN</td>\n",
       "      <td>NaN</td>\n",
       "      <td>\\nSmall-world networks are a commonly occurring graph structure characterized by short average path lengths and high clustering coefficients [1]. This means that even when the network is large the...</td>\n",
       "      <td>\\nSmall-world networks are characterized by short average path lengths (the shortest path between any pair of nodes) and high clustering coefficients (e.g., in social networks this would be the nu...</td>\n",
       "      <td>NaN</td>\n",
       "      <td>NaN</td>\n",
       "      <td>NaN</td>\n",
       "      <td>NaN</td>\n",
       "      <td>NaN</td>\n",
       "      <td>\\nThis paper has presented an extension to the small-worlds pilot study presented in Gibson and Faith [8] where graphTPP was used to lay out a small-world network using node attributes. In this ca...</td>\n",
       "      <td>\\nSmall-world networks are a commonly occurring graph structure characterized by short average path lengths and high clustering coefficients [1]. This means that even when the network is large the...</td>\n",
       "      <td>37747</td>\n",
       "    </tr>\n",
       "  </tbody>\n",
       "</table>\n",
       "</div>"
      ],
      "text/plain": [
       "   Unnamed: 0  ... Body_LENGTH\n",
       "0          33  ...           0\n",
       "1         197  ...       76648\n",
       "2         220  ...      158323\n",
       "3         287  ...       58869\n",
       "4         298  ...       37747\n",
       "\n",
       "[5 rows x 17 columns]"
      ]
     },
     "execution_count": 6,
     "metadata": {
      "tags": []
     },
     "output_type": "execute_result"
    }
   ],
   "source": [
    "# Load Data\n",
    "\n",
    "data = pd.read_csv('/content/drive/My Drive/dataset1.csv')\n",
    "data.head()"
   ]
  },
  {
   "cell_type": "code",
   "execution_count": 0,
   "metadata": {
    "colab": {},
    "colab_type": "code",
    "id": "s9HhE8prB2n6"
   },
   "outputs": [],
   "source": [
    "data.dropna(subset = ['BODY'],inplace = True)"
   ]
  },
  {
   "cell_type": "code",
   "execution_count": 8,
   "metadata": {
    "colab": {
     "base_uri": "https://localhost:8080/",
     "height": 51
    },
    "colab_type": "code",
    "id": "8zsMJuiFCgpd",
    "outputId": "7e632265-5a45-47c2-e1d5-8aa236df8319"
   },
   "outputs": [
    {
     "data": {
      "text/plain": [
       "(8022, 17)"
      ]
     },
     "execution_count": 8,
     "metadata": {
      "tags": []
     },
     "output_type": "execute_result"
    }
   ],
   "source": [
    "data.shape"
   ]
  },
  {
   "cell_type": "code",
   "execution_count": 0,
   "metadata": {
    "colab": {},
    "colab_type": "code",
    "id": "sJ8YNc9JWudo"
   },
   "outputs": [],
   "source": [
    "# Preprocessing \"body\" text\n",
    "\n",
    "\n",
    "from spacy.lang.en.stop_words import STOP_WORDS\n",
    " \n",
    "def clean_body(text):\n",
    "    newText = text.lower()\n",
    "    newText = re.sub('[^\\w\\s\\d\\.]','',newText)\n",
    "    newText = ' '.join(newText.split())\n",
    "    tokens = [w for w in newText.split() if not w in STOP_WORDS]\n",
    "    long_words=[]\n",
    "    for i in tokens:\n",
    "        if len(i)>=3:\n",
    "            long_words.append(i)   \n",
    "    return (\" \".join(long_words)).strip()\n",
    "\n",
    "cleaned_body = []\n",
    "for t in data['BODY']:\n",
    "    cleaned_body.append(clean_body(t))\n",
    "\n"
   ]
  },
  {
   "cell_type": "code",
   "execution_count": 10,
   "metadata": {
    "colab": {
     "base_uri": "https://localhost:8080/",
     "height": 139
    },
    "colab_type": "code",
    "id": "wXL_mAaPW9fY",
    "outputId": "6878dd0b-9c23-42a6-a443-96b71d5b7a86"
   },
   "outputs": [
    {
     "data": {
      "text/plain": [
       "['_START_ fabrication of threedimensional structures has gained increasing importance in the bone tissue engineering bte field. mechanical properties and permeability are two important requirement for bte scaffolds. the mechanical properties of the scaffolds are highly dependent on the processing parameters. layer thickness delay time between spreading each powder layer and printing orientation are the major factors that determine the porosity and compression strength of the 3d printed scaffold. in this study the aggregated artificial neural network aann was used to investigate the simultaneous effects of layer thickness delay time between spreading each layer and print orientation of porous structures on the compressive strength and porosity of scaffolds. two optimization methods were applied to obtain the optimal 3d parameter settings for printing tiny porous structures as a real bte problem. first particle swarm optimization algorithm was implemented to obtain the optimum topology of the aann. then pareto front optimization was used to determine the optimal setting parameters for the fabrication of the scaffolds with required compressive strength and porosity. the results indicate the acceptable potential of the evolutionary strategies for the controlling and optimization of the 3dp process as a complicated engineering problem. _END_',\n",
       " '_START_ global optimization for mining complexes aims to generate a production schedule for the various mines and processing streams that maximizes the economic value of the enterprise as a whole. aside from the large scale of the optimization models one of the major challenges associated with optimizing mining complexes is related to the blending and nonlinear geometallurgical interactions in the processing streams as materials are transformed from bulk material to refined products. this work proposes a new twostage stochastic global optimization model for the production scheduling of open pit mining complexes with uncertainty. three combinations of metaheuristics including simulated annealing particle swarm optimization and differential evolution are tested to assess the performance of the solver. experimental results for a coppergold mining complex demonstrate that the optimizer is capable of generating designs that reduce the risk of not meeting production targets have 6.6 higher expected net present value than the deterministicequivalent design and 22.6 higher net present value than an industrystandard deterministic mine planning software. _END_',\n",
       " '_START_ support vector machines have a wide use for the prediction problems in life sciences. it has been shown to offer more generalisation ability in inputoutput mapping. however the performance of predictive models is often negatively influenced due to the complex highdimensional and nonlinear nature of the postgenome data. soft computing methods can be used to model such nonlinear systems. fuzzy systems are one of the widely used methods of soft computing that model uncertainties. it is formed of interpretable rules aiding one to gain insight into applied model. this study is therefore concerned to provide more interpretable and efficient biological model with the development of a hybrid method that integrates the fuzzy system and support vector regression. in order to demonstrate the robustness of this new hybrid method it is applied to the prediction of peptide binding affinity being one of the most challenging problems in the postgenomic era due to diversity in peptide families and complexity and highdimensionality in the characteristic features of the peptides. having used four different case studies this hybrid predictive model has yielded the highest predictive power in all the four cases and achieved an improvement of as much as 34 compared to the results presented in the literature. availability matlab scripts are available at httpsgithub.comsekerbigdatalabtsksvr. _END_',\n",
       " '_START_ many networks exhibit smallworld properties. the structure of a smallworld network is characterized by short average path lengths and high clustering coefficients. few graph layout methods capture this structure well which limits their effectiveness and the utility of the visualization itself. here we present an extension to our novel graphtpp layout method for laying out smallworld networks using only their topological properties rather than their node attributes. the wattsstrogatz model is used to generate a variety of graphs with a smallworld network structure. community detection algorithms are used to generate six different clusterings of the data. these clusterings the adjacency matrix and edgelist are loaded into graphtpp and through user interaction combined with linear projections of the adjacency matrix graphtpp is able to produce a layout which visually separates these clusters. these layouts are compared to the layouts of two forcebased techniques. graphtpp is able to clearly separate each of the communities into a spatially distinct area and the edge relationships between the clusters show the strength of their relationship. as a secondary contribution an edgegrouping algorithm for graphtpp is demonstrated as a means to reduce visual clutter in the layout and reinforce the display of the strength of the relationship between two communities. _END_',\n",
       " '_START_ large scale simulations require considerable amounts of computing power and often cloud services are utilized to perform them. in such settings the execution costs can be significantly decreased through the use of the amazon spot price market. its downside is that amazon can interrupt the users computations when her bid price is too low. this poses a problem in finding an online bidding algorithm that balances the computation cost and the simulation experiment completion time. we identify key drivers governing the spot prices on amazon ec2 and using these insights propose an adaptive bidding strategy that simultaneously minimizes the computation cost and the delays due to computation termination. we show that bidding close to a spot price and dynamically switching between instances is a strategy that is efficient and simple to implement in practice. in the paper we present a simulator of the ec2 spot pricing mechanism. the simulator can be easily used to develop and test other bidding strategies on amazon spot price market. _END_']"
      ]
     },
     "execution_count": 10,
     "metadata": {
      "tags": []
     },
     "output_type": "execute_result"
    }
   ],
   "source": [
    "# Preprocessing \"highlight\" text\n",
    "\n",
    "\n",
    "def clean_highlight(text):\n",
    "  newText = text.lower()\n",
    "  newText = re.sub('[^\\w\\s\\d\\.]','',newText)\n",
    "  newText = ' '.join(newText.split())\n",
    "  newText = '_START_ '+ newText + ' _END_'\n",
    "  return newText\n",
    "\n",
    "cleaned_highlight = []\n",
    "for t in data['ABSTRACT']:\n",
    "    cleaned_highlight.append(clean_highlight(t))\n",
    "\n",
    "cleaned_highlight[:5]"
   ]
  },
  {
   "cell_type": "code",
   "execution_count": 0,
   "metadata": {
    "colab": {},
    "colab_type": "code",
    "id": "4v2miObtW_lE"
   },
   "outputs": [],
   "source": [
    "# Storing preprocessed data in the dataframe\n",
    "\n",
    "\n",
    "data['cleaned_highlights'] = cleaned_highlight\n",
    "data['cleaned_body'] = cleaned_body"
   ]
  },
  {
   "cell_type": "code",
   "execution_count": 0,
   "metadata": {
    "colab": {},
    "colab_type": "code",
    "id": "UgkCVIhNVuYF"
   },
   "outputs": [],
   "source": [
    "data.to_csv('/content/drive/My Drive/PreProcessedDataset.csv',index = False, header = True)"
   ]
  }
 ],
 "metadata": {
  "accelerator": "GPU",
  "colab": {
   "collapsed_sections": [],
   "name": "Abstract Generator PreProcessing",
   "provenance": []
  },
  "kernelspec": {
   "display_name": "Python 3",
   "language": "python",
   "name": "python3"
  },
  "language_info": {
   "codemirror_mode": {
    "name": "ipython",
    "version": 3
   },
   "file_extension": ".py",
   "mimetype": "text/x-python",
   "name": "python",
   "nbconvert_exporter": "python",
   "pygments_lexer": "ipython3",
   "version": "3.7.3"
  }
 },
 "nbformat": 4,
 "nbformat_minor": 1
}
