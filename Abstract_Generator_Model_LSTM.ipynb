{
 "cells": [
  {
   "cell_type": "markdown",
   "metadata": {},
   "source": [
    "### Implementation using stacked LSTM encoder."
   ]
  },
  {
   "cell_type": "code",
   "execution_count": 1,
   "metadata": {
    "colab": {
     "base_uri": "https://localhost:8080/",
     "height": 34
    },
    "colab_type": "code",
    "id": "8yRN30hAWKGQ",
    "outputId": "3b462bd3-5790-43f7-8165-a8eed47d95c0"
   },
   "outputs": [
    {
     "name": "stdout",
     "output_type": "stream",
     "text": [
      "Requirement already satisfied: tqdm==4.36.1 in /usr/local/lib/python3.6/dist-packages (4.36.1)\n"
     ]
    }
   ],
   "source": [
    "# tqdm version 4.36.1 is required\n",
    "\n",
    "\n",
    "!pip install tqdm==4.36.1"
   ]
  },
  {
   "cell_type": "code",
   "execution_count": 2,
   "metadata": {
    "colab": {
     "base_uri": "https://localhost:8080/",
     "height": 34
    },
    "colab_type": "code",
    "id": "AxlIcG9tWV1Y",
    "outputId": "e87c714e-d767-4295-9f80-e5df3f00c221"
   },
   "outputs": [
    {
     "name": "stdout",
     "output_type": "stream",
     "text": [
      "Drive already mounted at /content/drive; to attempt to forcibly remount, call drive.mount(\"/content/drive\", force_remount=True).\n"
     ]
    }
   ],
   "source": [
    "# Mounting Drive\n",
    "\n",
    "\n",
    "from google.colab import drive\n",
    "drive.mount('/content/drive')"
   ]
  },
  {
   "cell_type": "code",
   "execution_count": 3,
   "metadata": {
    "colab": {
     "base_uri": "https://localhost:8080/",
     "height": 153
    },
    "colab_type": "code",
    "id": "ulS4VyTQUe92",
    "outputId": "0d0a907a-26df-4581-99b8-8016b75d2e56"
   },
   "outputs": [
    {
     "name": "stdout",
     "output_type": "stream",
     "text": [
      "Requirement already satisfied: keras==2.2.4 in /usr/local/lib/python3.6/dist-packages (2.2.4)\n",
      "Requirement already satisfied: scipy>=0.14 in /usr/local/lib/python3.6/dist-packages (from keras==2.2.4) (1.4.1)\n",
      "Requirement already satisfied: pyyaml in /usr/local/lib/python3.6/dist-packages (from keras==2.2.4) (3.13)\n",
      "Requirement already satisfied: h5py in /usr/local/lib/python3.6/dist-packages (from keras==2.2.4) (2.10.0)\n",
      "Requirement already satisfied: numpy>=1.9.1 in /usr/local/lib/python3.6/dist-packages (from keras==2.2.4) (1.18.4)\n",
      "Requirement already satisfied: keras-preprocessing>=1.0.5 in /usr/local/lib/python3.6/dist-packages (from keras==2.2.4) (1.1.2)\n",
      "Requirement already satisfied: six>=1.9.0 in /usr/local/lib/python3.6/dist-packages (from keras==2.2.4) (1.12.0)\n",
      "Requirement already satisfied: keras-applications>=1.0.6 in /usr/local/lib/python3.6/dist-packages (from keras==2.2.4) (1.0.8)\n"
     ]
    }
   ],
   "source": [
    "!pip install keras==2.2.4"
   ]
  },
  {
   "cell_type": "code",
   "execution_count": 4,
   "metadata": {
    "colab": {
     "base_uri": "https://localhost:8080/",
     "height": 68
    },
    "colab_type": "code",
    "id": "oeYeuULxWb4Z",
    "outputId": "656028ef-7d36-4f26-cb99-6b7ccc16f8b4"
   },
   "outputs": [
    {
     "name": "stderr",
     "output_type": "stream",
     "text": [
      "Using TensorFlow backend.\n"
     ]
    },
    {
     "name": "stdout",
     "output_type": "stream",
     "text": [
      "[nltk_data] Downloading package stopwords to /root/nltk_data...\n",
      "[nltk_data]   Package stopwords is already up-to-date!\n"
     ]
    }
   ],
   "source": [
    "# Importing Libaries\n",
    "\n",
    "\n",
    "import numpy as np  \n",
    "import pandas as pd \n",
    "import re           \n",
    "import glob\n",
    "from bs4 import BeautifulSoup \n",
    "from keras.preprocessing.text import Tokenizer \n",
    "from keras.preprocessing.sequence import pad_sequences\n",
    "from nltk.corpus import stopwords   \n",
    "from tensorflow.keras.layers import Input, LSTM, Embedding, Dense, Concatenate, TimeDistributed, Bidirectional\n",
    "from tensorflow.keras.models import Model\n",
    "from tensorflow.keras.callbacks import EarlyStopping\n",
    "from tensorflow.keras.models import load_model\n",
    "import keras\n",
    "import warnings\n",
    "import nltk\n",
    "nltk.download('stopwords')\n",
    "pd.set_option(\"display.max_colwidth\", 200)\n",
    "warnings.filterwarnings(\"ignore\")"
   ]
  },
  {
   "cell_type": "code",
   "execution_count": 0,
   "metadata": {
    "colab": {},
    "colab_type": "code",
    "collapsed": true,
    "id": "TkenhppLWg-B"
   },
   "outputs": [],
   "source": [
    "# Progress bar\n",
    "\n",
    "\n",
    "from tqdm import tqdm\n",
    "tqdm.pandas()"
   ]
  },
  {
   "cell_type": "code",
   "execution_count": 6,
   "metadata": {
    "colab": {
     "base_uri": "https://localhost:8080/",
     "height": 1000
    },
    "colab_type": "code",
    "id": "M25zNardWsRI",
    "outputId": "d24f554f-4b0a-42c6-bc9d-29754509aeb9"
   },
   "outputs": [
    {
     "data": {
      "text/html": [
       "<div>\n",
       "<style scoped>\n",
       "    .dataframe tbody tr th:only-of-type {\n",
       "        vertical-align: middle;\n",
       "    }\n",
       "\n",
       "    .dataframe tbody tr th {\n",
       "        vertical-align: top;\n",
       "    }\n",
       "\n",
       "    .dataframe thead th {\n",
       "        text-align: right;\n",
       "    }\n",
       "</style>\n",
       "<table border=\"1\" class=\"dataframe\">\n",
       "  <thead>\n",
       "    <tr style=\"text-align: right;\">\n",
       "      <th></th>\n",
       "      <th>Unnamed: 0</th>\n",
       "      <th>MAIN-TITLE</th>\n",
       "      <th>HIGHLIGHTS</th>\n",
       "      <th>KEYPHRASES</th>\n",
       "      <th>ABSTRACT</th>\n",
       "      <th>ACKNOWLEDGEMENTS</th>\n",
       "      <th>REFERENCES</th>\n",
       "      <th>INTRODUCTION</th>\n",
       "      <th>RELATED WORK</th>\n",
       "      <th>OVERVIEW</th>\n",
       "      <th>IMPLEMENTATION</th>\n",
       "      <th>METHOD</th>\n",
       "      <th>MOTIVATION</th>\n",
       "      <th>LIMITATIONS</th>\n",
       "      <th>RESULT | CONCLUSION | DISCUSSION</th>\n",
       "      <th>BODY</th>\n",
       "      <th>Body_LENGTH</th>\n",
       "      <th>cleaned_highlights</th>\n",
       "      <th>cleaned_body</th>\n",
       "    </tr>\n",
       "  </thead>\n",
       "  <tbody>\n",
       "    <tr>\n",
       "      <th>0</th>\n",
       "      <td>197</td>\n",
       "      <td>\\n</td>\n",
       "      <td>\\n\\n               \\n               \\n                  \\n                     \\n                        \\n                           \\n                           The aggregated artificial neural ...</td>\n",
       "      <td>\\nScaffolds\\n\\n3D printer\\n\\nAggregated artificial neural network (AANN)\\n\\nParticle swarm optimization (PSO)\\n\\nPorous structure\\n\\nMechanical strength\\n\\n</td>\n",
       "      <td>\\n\\n               \\n               \\n                  Fabrication of three-dimensional structures has gained increasing importance in the bone tissue engineering (BTE) field. Mechanical properti...</td>\n",
       "      <td>NaN</td>\n",
       "      <td>NaN</td>\n",
       "      <td>\\nAdditive manufacturing (AM) is a layer-over-layer manufacturing technique. In most cases, enables complex components to be manufactured that are difficult to fabricate or cannot be made using co...</td>\n",
       "      <td>NaN</td>\n",
       "      <td>NaN</td>\n",
       "      <td>NaN</td>\n",
       "      <td>NaN</td>\n",
       "      <td>NaN</td>\n",
       "      <td>NaN</td>\n",
       "      <td>\\nIn this section, a predictive model for 3DP process is extracted. The model predicts the mechanical strength, and the open porosity of a part fabricated using this process. Mechanical strength a...</td>\n",
       "      <td>\\nAdditive manufacturing (AM) is a layer-over-layer manufacturing technique. In most cases, enables complex components to be manufactured that are difficult to fabricate or cannot be made using co...</td>\n",
       "      <td>76648</td>\n",
       "      <td>_START_ fabrication of threedimensional structures has gained increasing importance in the bone tissue engineering bte field. mechanical properties and permeability are two important requirement f...</td>\n",
       "      <td>additive manufacturing layeroverlayer manufacturing technique. cases enables complex components manufactured difficult fabricate conventional methods. practices powderbased threedimensional printi...</td>\n",
       "    </tr>\n",
       "    <tr>\n",
       "      <th>1</th>\n",
       "      <td>220</td>\n",
       "      <td>\\n</td>\n",
       "      <td>\\n\\n               \\n                  \\n                  \\n                     \\n                        \\n                           \\n                           A stochastic global optimizati...</td>\n",
       "      <td>\\nOpen pit mine design\\n\\nGlobal optimization\\n\\nProduction scheduling\\n\\nMetaheuristics\\n\\nDestination policy\\n\\n</td>\n",
       "      <td>\\n\\n               \\n               \\n                  Global optimization for mining complexes aims to generate a production schedule for the various mines and processing streams that maximizes ...</td>\n",
       "      <td>\\nThe work in this paper was funded by NSERC CRD 411270, NSERC Discovery Grant 239019, and the industry members of the COSMO Stochastic Mine Planning Laboratory: AngloGold Ashanti, Barrick Gold, B...</td>\n",
       "      <td>NaN</td>\n",
       "      <td>\\nGlobal optimization for mining complexes addresses the issue of integrated mining and processing operations with multiple pits or underground mines, multiple metals or minerals, stockpiles, blen...</td>\n",
       "      <td>NaN</td>\n",
       "      <td>NaN</td>\n",
       "      <td>NaN</td>\n",
       "      <td>NaN</td>\n",
       "      <td>NaN</td>\n",
       "      <td>NaN</td>\n",
       "      <td>\\nThis work presents a framework for global asset optimization of mining complexes under uncertainty, whereby the solutions provide robust long-term open-pit mine extraction sequences and destinat...</td>\n",
       "      <td>\\nGlobal optimization for mining complexes addresses the issue of integrated mining and processing operations with multiple pits or underground mines, multiple metals or minerals, stockpiles, blen...</td>\n",
       "      <td>158323</td>\n",
       "      <td>_START_ global optimization for mining complexes aims to generate a production schedule for the various mines and processing streams that maximizes the economic value of the enterprise as a whole....</td>\n",
       "      <td>global optimization mining complexes addresses issue integrated mining processing operations multiple pits underground mines multiple metals minerals stockpiles blending options alternative proces...</td>\n",
       "    </tr>\n",
       "    <tr>\n",
       "      <th>2</th>\n",
       "      <td>287</td>\n",
       "      <td>\\n</td>\n",
       "      <td>\\n\\n               \\n                  \\n                  \\n                     \\n                        \\n                           \\n                           High-dimensional biological da...</td>\n",
       "      <td>\\nFuzzy systems\\n\\nSupport vector regression\\n\\nPeptide binding affinity\\n\\n</td>\n",
       "      <td>\\n\\n               \\n               \\n                  Support vector machines have a wide use for the prediction problems in life sciences. It has been shown to offer more generalisation ability...</td>\n",
       "      <td>\\nDuring this study, Volkan Uslan was funded by De Montfort University Leicester with full PhD tuition fee scholarship. The authors thank to Dr Ovidiu Ivanciuc for organising the CoEPrA contest th...</td>\n",
       "      <td>NaN</td>\n",
       "      <td>\\nPeptide binding plays vital roles in the molecular biology of the cell. The process of the peptide binding can activate the cytotoxic T-cells in the immune system [1]. One of the most challengin...</td>\n",
       "      <td>NaN</td>\n",
       "      <td>NaN</td>\n",
       "      <td>NaN</td>\n",
       "      <td>NaN</td>\n",
       "      <td>NaN</td>\n",
       "      <td>NaN</td>\n",
       "      <td>\\nIn this paper, a hybrid system (TSK-SVR) that has helped improve the predictive ability of TSK-FS significantly with the aid of support-based vector method was developed and demonstrated with th...</td>\n",
       "      <td>\\nPeptide binding plays vital roles in the molecular biology of the cell. The process of the peptide binding can activate the cytotoxic T-cells in the immune system [1]. One of the most challengin...</td>\n",
       "      <td>58869</td>\n",
       "      <td>_START_ support vector machines have a wide use for the prediction problems in life sciences. it has been shown to offer more generalisation ability in inputoutput mapping. however the performance...</td>\n",
       "      <td>peptide binding plays vital roles molecular biology cell. process peptide binding activate cytotoxic tcells immune system challenging complex aspect peptide binding prediction proteinpeptide bindi...</td>\n",
       "    </tr>\n",
       "    <tr>\n",
       "      <th>3</th>\n",
       "      <td>298</td>\n",
       "      <td>\\n</td>\n",
       "      <td>\\n\\n               \\n                  \\n                  \\n                     \\n                        \\n                           \\n                           Few graph layout methods captu...</td>\n",
       "      <td>\\nSmall world networks\\n\\nAdjacency matrix\\n\\nNode attributes\\n\\nGraph visualization\\n\\nTargeted projection pursuit\\n\\n</td>\n",
       "      <td>\\n\\n               \\n               \\n                  Many networks exhibit small-world properties. The structure of a small-world network is characterized by short average path lengths and high...</td>\n",
       "      <td>NaN</td>\n",
       "      <td>NaN</td>\n",
       "      <td>\\nSmall-world networks are a commonly occurring graph structure characterized by short average path lengths and high clustering coefficients [1]. This means that even when the network is large the...</td>\n",
       "      <td>\\nSmall-world networks are characterized by short average path lengths (the shortest path between any pair of nodes) and high clustering coefficients (e.g., in social networks this would be the nu...</td>\n",
       "      <td>NaN</td>\n",
       "      <td>NaN</td>\n",
       "      <td>NaN</td>\n",
       "      <td>NaN</td>\n",
       "      <td>NaN</td>\n",
       "      <td>\\nThis paper has presented an extension to the small-worlds pilot study presented in Gibson and Faith [8] where graphTPP was used to lay out a small-world network using node attributes. In this ca...</td>\n",
       "      <td>\\nSmall-world networks are a commonly occurring graph structure characterized by short average path lengths and high clustering coefficients [1]. This means that even when the network is large the...</td>\n",
       "      <td>37747</td>\n",
       "      <td>_START_ many networks exhibit smallworld properties. the structure of a smallworld network is characterized by short average path lengths and high clustering coefficients. few graph layout methods...</td>\n",
       "      <td>smallworld networks commonly occurring graph structure characterized short average path lengths high clustering coefficients means network large steps pair nodes. despite prevalence methods able l...</td>\n",
       "    </tr>\n",
       "    <tr>\n",
       "      <th>4</th>\n",
       "      <td>396</td>\n",
       "      <td>\\n</td>\n",
       "      <td>\\n\\n               \\n               \\n                  \\n                     \\n                        \\n                           \\n                           Cost of simulation in the cloud c...</td>\n",
       "      <td>\\nCloud based simulation\\n\\nSimulation of the cloud\\n\\nCost optimization\\n\\nAmazon EC2\\n\\nSpot prices\\n\\n</td>\n",
       "      <td>\\n\\n               \\n               \\n                  Large scale simulations require considerable amounts of computing power and often cloud services are utilized to perform them. In such setti...</td>\n",
       "      <td>\\nWe would like to thank the three anonymous reviewers for their insightful comments that helped us to improve the article.\\n\\n</td>\n",
       "      <td>NaN</td>\n",
       "      <td>\\nThe goal of this paper is to propose an algorithm for a cost and time optimization for running simulations on public computational clusters with a spot pricing mechanism. The algorithm is implem...</td>\n",
       "      <td>\\nThe cloud computing paradigm (Infrastructure as a Service) is gaining increasing popularity due to highly competitive costs compared to employing on-site infrastructure. With Amazon currently be...</td>\n",
       "      <td>NaN</td>\n",
       "      <td>NaN</td>\n",
       "      <td>NaN</td>\n",
       "      <td>NaN</td>\n",
       "      <td>NaN</td>\n",
       "      <td>NaN</td>\n",
       "      <td>\\nThe goal of this paper is to propose an algorithm for a cost and time optimization for running simulations on public computational clusters with a spot pricing mechanism. The algorithm is implem...</td>\n",
       "      <td>77455</td>\n",
       "      <td>_START_ large scale simulations require considerable amounts of computing power and often cloud services are utilized to perform them. in such settings the execution costs can be significantly dec...</td>\n",
       "      <td>goal paper propose algorithm cost time optimization running simulations public computational clusters spot pricing mechanism. algorithm implemented python ready application reallife computationall...</td>\n",
       "    </tr>\n",
       "  </tbody>\n",
       "</table>\n",
       "</div>"
      ],
      "text/plain": [
       "   Unnamed: 0  ...                                                                                                                                                                                             cleaned_body\n",
       "0         197  ...  additive manufacturing layeroverlayer manufacturing technique. cases enables complex components manufactured difficult fabricate conventional methods. practices powderbased threedimensional printi...\n",
       "1         220  ...  global optimization mining complexes addresses issue integrated mining processing operations multiple pits underground mines multiple metals minerals stockpiles blending options alternative proces...\n",
       "2         287  ...  peptide binding plays vital roles molecular biology cell. process peptide binding activate cytotoxic tcells immune system challenging complex aspect peptide binding prediction proteinpeptide bindi...\n",
       "3         298  ...  smallworld networks commonly occurring graph structure characterized short average path lengths high clustering coefficients means network large steps pair nodes. despite prevalence methods able l...\n",
       "4         396  ...  goal paper propose algorithm cost time optimization running simulations public computational clusters spot pricing mechanism. algorithm implemented python ready application reallife computationall...\n",
       "\n",
       "[5 rows x 19 columns]"
      ]
     },
     "execution_count": 6,
     "metadata": {
      "tags": []
     },
     "output_type": "execute_result"
    }
   ],
   "source": [
    "# Load Data\n",
    "\n",
    "data = pd.read_csv('/content/drive/My Drive/MyPreProcessedDataset.csv')\n",
    "data.head()"
   ]
  },
  {
   "cell_type": "code",
   "execution_count": 7,
   "metadata": {
    "colab": {
     "base_uri": "https://localhost:8080/",
     "height": 459
    },
    "colab_type": "code",
    "id": "BfQR9pLNXKZz",
    "outputId": "627b209b-d940-44d8-8200-984f2323c728"
   },
   "outputs": [
    {
     "name": "stdout",
     "output_type": "stream",
     "text": [
      "<class 'pandas.core.frame.DataFrame'>\n",
      "RangeIndex: 8022 entries, 0 to 8021\n",
      "Data columns (total 19 columns):\n",
      " #   Column                            Non-Null Count  Dtype \n",
      "---  ------                            --------------  ----- \n",
      " 0   Unnamed: 0                        8022 non-null   int64 \n",
      " 1   MAIN-TITLE                        8022 non-null   object\n",
      " 2   HIGHLIGHTS                        8022 non-null   object\n",
      " 3   KEYPHRASES                        8022 non-null   object\n",
      " 4   ABSTRACT                          8022 non-null   object\n",
      " 5   ACKNOWLEDGEMENTS                  5158 non-null   object\n",
      " 6   REFERENCES                        1 non-null      object\n",
      " 7   INTRODUCTION                      7942 non-null   object\n",
      " 8   RELATED WORK                      2188 non-null   object\n",
      " 9   OVERVIEW                          137 non-null    object\n",
      " 10  IMPLEMENTATION                    413 non-null    object\n",
      " 11  METHOD                            1686 non-null   object\n",
      " 12  MOTIVATION                        113 non-null    object\n",
      " 13  LIMITATIONS                       216 non-null    object\n",
      " 14  RESULT | CONCLUSION | DISCUSSION  7072 non-null   object\n",
      " 15  BODY                              8022 non-null   object\n",
      " 16  Body_LENGTH                       8022 non-null   int64 \n",
      " 17  cleaned_highlights                8022 non-null   object\n",
      " 18  cleaned_body                      8022 non-null   object\n",
      "dtypes: int64(2), object(17)\n",
      "memory usage: 1.2+ MB\n"
     ]
    }
   ],
   "source": [
    "data.info()"
   ]
  },
  {
   "cell_type": "code",
   "execution_count": 8,
   "metadata": {
    "colab": {
     "base_uri": "https://localhost:8080/",
     "height": 281
    },
    "colab_type": "code",
    "id": "Zph3L3GQXPFq",
    "outputId": "ae34a3c6-a9df-4e0c-8b72-af3e73e86297"
   },
   "outputs": [
    {
     "data": {
      "image/png": "[encoded data removed]",
      "text/plain": [
       "<Figure size 432x288 with 2 Axes>"
      ]
     },
     "metadata": {
      "needs_background": "light",
      "tags": []
     },
     "output_type": "display_data"
    }
   ],
   "source": [
    "import matplotlib.pyplot as plt\n",
    "\n",
    "text_word_count = []\n",
    "summary_word_count = []\n",
    "\n",
    "for i in data['cleaned_body']:\n",
    "      text_word_count.append(len(i.split()))\n",
    "\n",
    "for i in data['cleaned_highlights']:\n",
    "      summary_word_count.append(len(i.split()))\n",
    "\n",
    "length_df = pd.DataFrame({'Body':text_word_count, 'Highlights':summary_word_count})\n",
    "length_df.hist(bins = 30)\n",
    "plt.show()"
   ]
  },
  {
   "cell_type": "code",
   "execution_count": 0,
   "metadata": {
    "colab": {},
    "colab_type": "code",
    "collapsed": true,
    "id": "E7xA5CIoXS0G"
   },
   "outputs": [],
   "source": [
    "max_len_body = 1000\n",
    "max_len_highlight = 50\n"
   ]
  },
  {
   "cell_type": "code",
   "execution_count": 10,
   "metadata": {
    "colab": {
     "base_uri": "https://localhost:8080/",
     "height": 51
    },
    "colab_type": "code",
    "id": "A5N9mwVwXZWI",
    "outputId": "8994fc56-cb1d-4d64-bc3e-8d350a617360"
   },
   "outputs": [
    {
     "name": "stderr",
     "output_type": "stream",
     "text": [
      "100%|██████████| 8022/8022 [00:00<00:00, 582808.61it/s]\n",
      "100%|██████████| 8022/8022 [00:00<00:00, 695567.91it/s]\n"
     ]
    }
   ],
   "source": [
    "# Converting cleaned data into strings\n",
    "\n",
    "\n",
    "data.cleaned_body = data.cleaned_body.progress_apply(lambda x: str(x))\n",
    "data.cleaned_highlights = data.cleaned_highlights.progress_apply(lambda x: str(x))"
   ]
  },
  {
   "cell_type": "code",
   "execution_count": 0,
   "metadata": {
    "colab": {},
    "colab_type": "code",
    "collapsed": true,
    "id": "MKo2IrqhXfJs"
   },
   "outputs": [],
   "source": [
    "# Splitting data into training and test sets\n",
    "# Test set is 20% of total data\n",
    "\n",
    "\n",
    "from sklearn.model_selection import train_test_split\n",
    "x_train,x_test,y_train,y_test=train_test_split(data['cleaned_body'],data['cleaned_highlights'],test_size=0.2,random_state=0,shuffle=True)"
   ]
  },
  {
   "cell_type": "code",
   "execution_count": 0,
   "metadata": {
    "colab": {},
    "colab_type": "code",
    "collapsed": true,
    "id": "K10GoGXpXia4"
   },
   "outputs": [],
   "source": [
    "# Tokenizing \"body\"\n",
    "x_tok = Tokenizer()\n",
    "x_tok.fit_on_texts(list(x_train))\n",
    "\n",
    "# Converting text to number sequences\n",
    "x_train = x_tok.texts_to_sequences(x_train) \n",
    "x_test = x_tok.texts_to_sequences(x_test)\n",
    "\n",
    "# Padding zero upto maximum length\n",
    "x_train = pad_sequences(x_train,  maxlen=max_len_body, padding='post') \n",
    "x_test = pad_sequences(x_test, maxlen=max_len_body, padding='post')\n",
    "\n",
    "# Total number of words\n",
    "x_vocab_size = len(x_tok.word_index) +1"
   ]
  },
  {
   "cell_type": "code",
   "execution_count": 0,
   "metadata": {
    "colab": {},
    "colab_type": "code",
    "collapsed": true,
    "id": "YS-cttoRXnIM"
   },
   "outputs": [],
   "source": [
    "# Tokenizing \"highlights\"\n",
    "y_tok = Tokenizer()\n",
    "y_tok.fit_on_texts(list(y_train))\n",
    "\n",
    "# Converting text to number sequences\n",
    "y_train = y_tok.texts_to_sequences(y_train) \n",
    "y_test = y_tok.texts_to_sequences(y_test)\n",
    "\n",
    "# Padding zero upto maximum length\n",
    "y_train = pad_sequences(y_train,  maxlen=max_len_highlight, padding='post') \n",
    "y_test = pad_sequences(y_test, maxlen=max_len_highlight, padding='post')\n",
    "\n",
    "# Word count\n",
    "y_vocab_size = len(y_tok.word_index) +1"
   ]
  },
  {
   "cell_type": "markdown",
   "metadata": {},
   "source": [
    "#### ATTENTION LAYER"
   ]
  },
  {
   "cell_type": "markdown",
   "metadata": {},
   "source": [
    "Attention Layer required to remember context information. As there is no Keras implementation for Attention Layer we have found a third-party resource to aid in our model. Reference: https://github.com/thushv89/attention_keras/blob/master/layers/attention.py"
   ]
  },
  {
   "cell_type": "code",
   "execution_count": 0,
   "metadata": {
    "colab": {},
    "colab_type": "code",
    "collapsed": true,
    "id": "uQ_h5wQ4XwPd"
   },
   "outputs": [],
   "source": [
    "import tensorflow as tf\n",
    "import os\n",
    "from tensorflow.python.keras.layers import Layer\n",
    "from tensorflow.python.keras import backend as K\n",
    "\n",
    "\n",
    "class AttentionLayer(Layer):\n",
    "    \"\"\"\n",
    "    This class implements Bahdanau attention (https://arxiv.org/pdf/1409.0473.pdf).\n",
    "    There are three sets of weights introduced W_a, U_a, and V_a\n",
    "     \"\"\"\n",
    "\n",
    "    def __init__(self, **kwargs):\n",
    "        super(AttentionLayer, self).__init__(**kwargs)\n",
    "\n",
    "    def build(self, input_shape):\n",
    "        assert isinstance(input_shape, list)\n",
    "        # Create a trainable weight variable for this layer.\n",
    "\n",
    "        self.W_a = self.add_weight(name='W_a',\n",
    "                                   shape=tf.TensorShape((input_shape[0][2], input_shape[0][2])),\n",
    "                                   initializer='uniform',\n",
    "                                   trainable=True)\n",
    "        self.U_a = self.add_weight(name='U_a',\n",
    "                                   shape=tf.TensorShape((input_shape[1][2], input_shape[0][2])),\n",
    "                                   initializer='uniform',\n",
    "                                   trainable=True)\n",
    "        self.V_a = self.add_weight(name='V_a',\n",
    "                                   shape=tf.TensorShape((input_shape[0][2], 1)),\n",
    "                                   initializer='uniform',\n",
    "                                   trainable=True)\n",
    "\n",
    "        super(AttentionLayer, self).build(input_shape)  # Be sure to call this at the end\n",
    "\n",
    "    def call(self, inputs, verbose=False):\n",
    "        \"\"\"\n",
    "        inputs: [encoder_output_sequence, decoder_output_sequence]\n",
    "        \"\"\"\n",
    "        assert type(inputs) == list\n",
    "        encoder_out_seq, decoder_out_seq = inputs\n",
    "        if verbose:\n",
    "            print('encoder_out_seq>', encoder_out_seq.shape)\n",
    "            print('decoder_out_seq>', decoder_out_seq.shape)\n",
    "\n",
    "        def energy_step(inputs, states):\n",
    "            \"\"\" Step function for computing energy for a single decoder state \"\"\"\n",
    "\n",
    "            assert_msg = \"States must be a list. However states {} is of type {}\".format(states, type(states))\n",
    "            assert isinstance(states, list) or isinstance(states, tuple), assert_msg\n",
    "\n",
    "            \"\"\" Some parameters required for shaping tensors\"\"\"\n",
    "            en_seq_len, en_hidden = encoder_out_seq.shape[1], encoder_out_seq.shape[2]\n",
    "            de_hidden = inputs.shape[-1]\n",
    "\n",
    "            \"\"\" Computing S.Wa where S=[s0, s1, ..., si]\"\"\"\n",
    "            # <= batch_size*en_seq_len, latent_dim\n",
    "            reshaped_enc_outputs = K.reshape(encoder_out_seq, (-1, en_hidden))\n",
    "            # <= batch_size*en_seq_len, latent_dim\n",
    "            W_a_dot_s = K.reshape(K.dot(reshaped_enc_outputs, self.W_a), (-1, en_seq_len, en_hidden))\n",
    "            if verbose:\n",
    "                print('wa.s>',W_a_dot_s.shape)\n",
    "\n",
    "            \"\"\" Computing hj.Ua \"\"\"\n",
    "            U_a_dot_h = K.expand_dims(K.dot(inputs, self.U_a), 1)  # <= batch_size, 1, latent_dim\n",
    "            if verbose:\n",
    "                print('Ua.h>',U_a_dot_h.shape)\n",
    "\n",
    "            \"\"\" tanh(S.Wa + hj.Ua) \"\"\"\n",
    "            # <= batch_size*en_seq_len, latent_dim\n",
    "            reshaped_Ws_plus_Uh = K.tanh(K.reshape(W_a_dot_s + U_a_dot_h, (-1, en_hidden)))\n",
    "            if verbose:\n",
    "                print('Ws+Uh>', reshaped_Ws_plus_Uh.shape)\n",
    "\n",
    "            \"\"\" softmax(va.tanh(S.Wa + hj.Ua)) \"\"\"\n",
    "            # <= batch_size, en_seq_len\n",
    "            e_i = K.reshape(K.dot(reshaped_Ws_plus_Uh, self.V_a), (-1, en_seq_len))\n",
    "            # <= batch_size, en_seq_len\n",
    "            e_i = K.softmax(e_i)\n",
    "\n",
    "            if verbose:\n",
    "                print('ei>', e_i.shape)\n",
    "\n",
    "            return e_i, [e_i]\n",
    "\n",
    "        def context_step(inputs, states):\n",
    "            \"\"\" Step function for computing ci using ei \"\"\"\n",
    "            # <= batch_size, hidden_size\n",
    "            c_i = K.sum(encoder_out_seq * K.expand_dims(inputs, -1), axis=1)\n",
    "            if verbose:\n",
    "                print('ci>', c_i.shape)\n",
    "            return c_i, [c_i]\n",
    "\n",
    "        def create_inital_state(inputs, hidden_size):\n",
    "            # We are not using initial states, but need to pass something to K.rnn funciton\n",
    "            fake_state = K.zeros_like(inputs)  # <= (batch_size, enc_seq_len, latent_dim\n",
    "            fake_state = K.sum(fake_state, axis=[1, 2])  # <= (batch_size)\n",
    "            fake_state = K.expand_dims(fake_state)  # <= (batch_size, 1)\n",
    "            fake_state = K.tile(fake_state, [1, hidden_size])  # <= (batch_size, latent_dim\n",
    "            return fake_state\n",
    "\n",
    "        fake_state_c = create_inital_state(encoder_out_seq, encoder_out_seq.shape[-1])\n",
    "        fake_state_e = create_inital_state(encoder_out_seq, encoder_out_seq.shape[1])  # <= (batch_size, enc_seq_len, latent_dim\n",
    "\n",
    "        \"\"\" Computing energy outputs \"\"\"\n",
    "        # e_outputs => (batch_size, de_seq_len, en_seq_len)\n",
    "        last_out, e_outputs, _ = K.rnn(\n",
    "            energy_step, decoder_out_seq, [fake_state_e],\n",
    "        )\n",
    "\n",
    "        \"\"\" Computing context vectors \"\"\"\n",
    "        last_out, c_outputs, _ = K.rnn(\n",
    "            context_step, e_outputs, [fake_state_c],\n",
    "        )\n",
    "\n",
    "        return c_outputs, e_outputs\n",
    "\n",
    "    def compute_output_shape(self, input_shape):\n",
    "        \"\"\" Outputs produced by the layer \"\"\"\n",
    "        return [\n",
    "            tf.TensorShape((input_shape[1][0], input_shape[1][1], input_shape[1][2])),\n",
    "            tf.TensorShape((input_shape[1][0], input_shape[1][1], input_shape[0][1]))\n",
    "        ]\n"
   ]
  },
  {
   "cell_type": "markdown",
   "metadata": {},
   "source": [
    "#### ENCODER DECODER ARCHITECTURE"
   ]
  },
  {
   "cell_type": "code",
   "execution_count": 15,
   "metadata": {
    "colab": {
     "base_uri": "https://localhost:8080/",
     "height": 751
    },
    "colab_type": "code",
    "id": "LKJJowBPX04V",
    "outputId": "5e060ed0-6395-4cd6-c85f-226d0d833c13"
   },
   "outputs": [
    {
     "name": "stdout",
     "output_type": "stream",
     "text": [
      "WARNING:tensorflow:AutoGraph could not transform <function rnn at 0x7f531a5711e0> and will run it as-is.\n",
      "Please report this to the TensorFlow team. When filing the bug, set the verbosity to 10 (on Linux, `export AUTOGRAPH_VERBOSITY=10`) and attach the full output.\n",
      "Cause: local variable 'kill' referenced before assignment\n",
      "To silence this warning, decorate the function with @tf.autograph.experimental.do_not_convert\n",
      "WARNING: AutoGraph could not transform <function rnn at 0x7f531a5711e0> and will run it as-is.\n",
      "Please report this to the TensorFlow team. When filing the bug, set the verbosity to 10 (on Linux, `export AUTOGRAPH_VERBOSITY=10`) and attach the full output.\n",
      "Cause: local variable 'kill' referenced before assignment\n",
      "To silence this warning, decorate the function with @tf.autograph.experimental.do_not_convert\n",
      "Model: \"model\"\n",
      "__________________________________________________________________________________________________\n",
      "Layer (type)                    Output Shape         Param #     Connected to                     \n",
      "==================================================================================================\n",
      "input_1 (InputLayer)            [(None, 1000)]       0                                            \n",
      "__________________________________________________________________________________________________\n",
      "embedding (Embedding)           (None, 1000, 50)     13315000    input_1[0][0]                    \n",
      "__________________________________________________________________________________________________\n",
      "lstm (LSTM)                     [(None, 1000, 50), ( 20200       embedding[0][0]                  \n",
      "__________________________________________________________________________________________________\n",
      "input_2 (InputLayer)            [(None, None)]       0                                            \n",
      "__________________________________________________________________________________________________\n",
      "lstm_1 (LSTM)                   [(None, 1000, 50), ( 20200       lstm[0][0]                       \n",
      "__________________________________________________________________________________________________\n",
      "embedding_1 (Embedding)         (None, None, 50)     2056450     input_2[0][0]                    \n",
      "__________________________________________________________________________________________________\n",
      "lstm_2 (LSTM)                   [(None, 1000, 50), ( 20200       lstm_1[0][0]                     \n",
      "__________________________________________________________________________________________________\n",
      "lstm_3 (LSTM)                   [(None, None, 50), ( 20200       embedding_1[0][0]                \n",
      "                                                                 lstm_2[0][1]                     \n",
      "                                                                 lstm_2[0][2]                     \n",
      "__________________________________________________________________________________________________\n",
      "attention_layer (AttentionLayer ((None, None, 50), ( 5050        lstm_2[0][0]                     \n",
      "                                                                 lstm_3[0][0]                     \n",
      "__________________________________________________________________________________________________\n",
      "concat_layer (Concatenate)      (None, None, 100)    0           lstm_3[0][0]                     \n",
      "                                                                 attention_layer[0][0]            \n",
      "__________________________________________________________________________________________________\n",
      "time_distributed (TimeDistribut (None, None, 41129)  4154029     concat_layer[0][0]               \n",
      "==================================================================================================\n",
      "Total params: 19,611,329\n",
      "Trainable params: 19,611,329\n",
      "Non-trainable params: 0\n",
      "__________________________________________________________________________________________________\n"
     ]
    }
   ],
   "source": [
    "from keras import backend as K \n",
    "\n",
    "\n",
    "#K.clear_session() \n",
    "latent_dim = 50 \n",
    "\n",
    "\n",
    "# Encoder \n",
    "encoder_inputs = Input(shape=(max_len_body,)) \n",
    "enc_emb = Embedding(x_vocab_size, latent_dim,trainable=True)(encoder_inputs) \n",
    "\n",
    "# 1st LSTM Layer\n",
    "encoder_lstm1 = LSTM(latent_dim,return_sequences=True,return_state=True) \n",
    "encoder_output1, state_h1, state_c1 = encoder_lstm1(enc_emb) \n",
    "\n",
    "# 2nd LSTM Layer\n",
    "encoder_lstm2 = LSTM(latent_dim,return_sequences=True,return_state=True) \n",
    "encoder_output2, state_h2, state_c2 = encoder_lstm2(encoder_output1) \n",
    "\n",
    "# 3rd LSTM Layer\n",
    "encoder_lstm3=LSTM(latent_dim, return_state=True, return_sequences=True) \n",
    "encoder_outputs, state_h, state_c= encoder_lstm3(encoder_output2) \n",
    "\n",
    "# Decoder \n",
    "decoder_inputs = Input(shape=(None,)) \n",
    "dec_emb_layer = Embedding(y_vocab_size, latent_dim,trainable=True) \n",
    "dec_emb = dec_emb_layer(decoder_inputs) \n",
    "\n",
    "# LSTM using encoder_states as initial state\n",
    "decoder_lstm = LSTM(latent_dim, return_sequences=True, return_state=True) \n",
    "decoder_outputs,decoder_fwd_state, decoder_back_state = decoder_lstm(dec_emb,initial_state=[state_h, state_c]) \n",
    "\n",
    "# Attention Layer\n",
    "attn_layer = AttentionLayer(name='attention_layer') \n",
    "attn_out, attn_states = attn_layer([encoder_outputs, decoder_outputs]) \n",
    "\n",
    "# Concat attention output and decoder LSTM output \n",
    "decoder_concat_input = Concatenate(axis=-1, name='concat_layer')([decoder_outputs, attn_out])\n",
    "\n",
    "# Dense layer\n",
    "decoder_dense = TimeDistributed(Dense(y_vocab_size, activation='softmax')) \n",
    "decoder_outputs = decoder_dense(decoder_concat_input) \n",
    "\n",
    "# Model Definition\n",
    "model = Model([encoder_inputs, decoder_inputs], decoder_outputs) \n",
    "model.summary()\n"
   ]
  },
  {
   "cell_type": "code",
   "execution_count": 0,
   "metadata": {
    "colab": {},
    "colab_type": "code",
    "collapsed": true,
    "id": "gvBdWresX4yR"
   },
   "outputs": [],
   "source": [
    "model.compile(optimizer='rmsprop', loss='sparse_categorical_crossentropy')\n"
   ]
  },
  {
   "cell_type": "code",
   "execution_count": 0,
   "metadata": {
    "colab": {},
    "colab_type": "code",
    "collapsed": true,
    "id": "ADAInMJTX7A_"
   },
   "outputs": [],
   "source": [
    "es = EarlyStopping(monitor='val_loss', mode='min', verbose=1)\n"
   ]
  },
  {
   "cell_type": "code",
   "execution_count": 18,
   "metadata": {
    "colab": {
     "base_uri": "https://localhost:8080/",
     "height": 986
    },
    "colab_type": "code",
    "id": "c-6VW0p2X9iN",
    "outputId": "381c2249-3c0c-4e4a-88ce-c8cd86c544d1"
   },
   "outputs": [
    {
     "name": "stdout",
     "output_type": "stream",
     "text": [
      "Epoch 1/100\n",
      "51/51 [==============================] - 59s 1s/step - loss: 8.0219 - val_loss: 6.8695\n",
      "Epoch 2/100\n",
      "51/51 [==============================] - 58s 1s/step - loss: 6.9523 - val_loss: 6.8154\n",
      "Epoch 3/100\n",
      "51/51 [==============================] - 58s 1s/step - loss: 6.8747 - val_loss: 6.7137\n",
      "Epoch 4/100\n",
      "51/51 [==============================] - 58s 1s/step - loss: 6.7235 - val_loss: 6.6075\n",
      "Epoch 5/100\n",
      "51/51 [==============================] - 58s 1s/step - loss: 6.6040 - val_loss: 6.5030\n",
      "Epoch 6/100\n",
      "51/51 [==============================] - 58s 1s/step - loss: 6.4908 - val_loss: 6.4195\n",
      "Epoch 7/100\n",
      "51/51 [==============================] - 58s 1s/step - loss: 6.3903 - val_loss: 6.3561\n",
      "Epoch 8/100\n",
      "51/51 [==============================] - 58s 1s/step - loss: 6.3011 - val_loss: 6.2849\n",
      "Epoch 9/100\n",
      "51/51 [==============================] - 58s 1s/step - loss: 6.2265 - val_loss: 6.2415\n",
      "Epoch 10/100\n",
      "51/51 [==============================] - 58s 1s/step - loss: 6.1606 - val_loss: 6.1864\n",
      "Epoch 11/100\n",
      "51/51 [==============================] - 58s 1s/step - loss: 6.0977 - val_loss: 6.1457\n",
      "Epoch 12/100\n",
      "51/51 [==============================] - 58s 1s/step - loss: 6.0365 - val_loss: 6.1058\n",
      "Epoch 13/100\n",
      "51/51 [==============================] - 58s 1s/step - loss: 5.9753 - val_loss: 6.0572\n",
      "Epoch 14/100\n",
      "51/51 [==============================] - 58s 1s/step - loss: 5.9175 - val_loss: 6.0213\n",
      "Epoch 15/100\n",
      "51/51 [==============================] - 58s 1s/step - loss: 5.8630 - val_loss: 5.9861\n",
      "Epoch 16/100\n",
      "51/51 [==============================] - 58s 1s/step - loss: 5.8083 - val_loss: 5.9640\n",
      "Epoch 17/100\n",
      "51/51 [==============================] - 59s 1s/step - loss: 5.7623 - val_loss: 5.9197\n",
      "Epoch 18/100\n",
      "51/51 [==============================] - 59s 1s/step - loss: 5.7100 - val_loss: 5.9016\n",
      "Epoch 19/100\n",
      "51/51 [==============================] - 59s 1s/step - loss: 5.6631 - val_loss: 5.8638\n",
      "Epoch 20/100\n",
      "51/51 [==============================] - 59s 1s/step - loss: 5.6195 - val_loss: 5.8448\n",
      "Epoch 21/100\n",
      "51/51 [==============================] - 59s 1s/step - loss: 5.5788 - val_loss: 5.8239\n",
      "Epoch 22/100\n",
      "51/51 [==============================] - 58s 1s/step - loss: 5.5381 - val_loss: 5.8077\n",
      "Epoch 23/100\n",
      "51/51 [==============================] - 59s 1s/step - loss: 5.4990 - val_loss: 5.7864\n",
      "Epoch 24/100\n",
      "51/51 [==============================] - 59s 1s/step - loss: 5.4616 - val_loss: 5.7755\n",
      "Epoch 25/100\n",
      "51/51 [==============================] - 59s 1s/step - loss: 5.4247 - val_loss: 5.7638\n",
      "Epoch 26/100\n",
      "51/51 [==============================] - 59s 1s/step - loss: 5.3895 - val_loss: 5.7444\n",
      "Epoch 27/100\n",
      "51/51 [==============================] - 59s 1s/step - loss: 5.3535 - val_loss: 5.7399\n",
      "Epoch 28/100\n",
      "51/51 [==============================] - 59s 1s/step - loss: 5.3182 - val_loss: 5.7415\n",
      "Epoch 00028: early stopping\n"
     ]
    }
   ],
   "source": [
    "history=model.fit([x_train,y_train[:,:-1]], y_train.reshape(y_train.shape[0], y_train.shape[1], 1)[:,1:], epochs=100, callbacks=[es], batch_size=128, validation_data=([x_test,y_test[:,:-1]], y_test.reshape(y_test.shape[0],y_test.shape[1], 1)[:,1:]))\n"
   ]
  },
  {
   "cell_type": "code",
   "execution_count": 0,
   "metadata": {
    "colab": {},
    "colab_type": "code",
    "collapsed": true,
    "id": "0ThmAJmJYCVd"
   },
   "outputs": [],
   "source": [
    "model.save('/content/drive/My Drive/NLP/model3.h5')\n"
   ]
  },
  {
   "cell_type": "code",
   "execution_count": 20,
   "metadata": {
    "colab": {
     "base_uri": "https://localhost:8080/",
     "height": 265
    },
    "colab_type": "code",
    "id": "tbOxpRf8YEwM",
    "outputId": "12526ffa-c6d9-4ba3-da1f-9d32b89a7509"
   },
   "outputs": [
    {
     "data": {
      "image/png": "[encoded data removed]",
      "text/plain": [
       "<Figure size 432x288 with 1 Axes>"
      ]
     },
     "metadata": {
      "needs_background": "light",
      "tags": []
     },
     "output_type": "display_data"
    }
   ],
   "source": [
    "# Visualizing training ans test loss functions\n",
    "\n",
    "\n",
    "from matplotlib import pyplot \n",
    "pyplot.plot(history.history['loss'], label='train') \n",
    "pyplot.plot(history.history['val_loss'], label='test') \n",
    "pyplot.legend() \n",
    "pyplot.show()"
   ]
  },
  {
   "cell_type": "code",
   "execution_count": 0,
   "metadata": {
    "colab": {},
    "colab_type": "code",
    "collapsed": true,
    "id": "9yqFK5YaYHK3"
   },
   "outputs": [],
   "source": [
    "reverse_target_word_index=y_tok.index_word \n",
    "reverse_source_word_index=x_tok.index_word \n",
    "target_word_index=y_tok.word_index"
   ]
  },
  {
   "cell_type": "code",
   "execution_count": 0,
   "metadata": {
    "colab": {},
    "colab_type": "code",
    "collapsed": true,
    "id": "c2XZJiplYJtx"
   },
   "outputs": [],
   "source": [
    "# Encoder Inference\n",
    "encoder_model = Model(inputs=encoder_inputs,outputs=[encoder_outputs, state_h, state_c])\n",
    "\n",
    "# Decoder Inference\n",
    "# Below tensors hold the states of the previous time step\n",
    "decoder_state_input_h = Input(shape=(latent_dim,))\n",
    "decoder_state_input_c = Input(shape=(latent_dim,))\n",
    "decoder_hidden_state_input = Input(shape=(max_len_body,latent_dim))\n",
    "\n",
    "# Getting decoder sequence embeddings\n",
    "dec_emb2= dec_emb_layer(decoder_inputs)\n",
    "\n",
    "# Predicting the next word in the sequence\n",
    "# Setting the initial states to the previous time step states\n",
    "decoder_outputs2, state_h2, state_c2 = decoder_lstm(dec_emb2, initial_state=[decoder_state_input_h, decoder_state_input_c])\n",
    "\n",
    "# Attention Inference\n",
    "attn_out_inf, attn_states_inf = attn_layer([decoder_hidden_state_input, decoder_outputs2])\n",
    "decoder_inf_concat = Concatenate(axis=-1, name='concat')([decoder_outputs2, attn_out_inf])\n",
    "\n",
    "# Dense softmax layer to calculate probability distribution over target vocab\n",
    "decoder_outputs2 = decoder_dense(decoder_inf_concat)\n",
    "\n",
    "# Final Decoder model\n",
    "decoder_model = Model(\n",
    "[decoder_inputs] + [decoder_hidden_state_input,decoder_state_input_h, decoder_state_input_c],\n",
    "[decoder_outputs2] + [state_h2, state_c2])"
   ]
  },
  {
   "cell_type": "code",
   "execution_count": 0,
   "metadata": {
    "colab": {},
    "colab_type": "code",
    "collapsed": true,
    "id": "hXxr6YgIYOY-"
   },
   "outputs": [],
   "source": [
    "# Function to implement inference\n",
    "\n",
    "\n",
    "\n",
    "def decode_sequence(input_seq):\n",
    "    # Encoding input as state vectors\n",
    "    e_out, e_h, e_c = encoder_model.predict(input_seq)\n",
    "\n",
    "    # Generating empty target sequence of length 1\n",
    "    target_seq = np.zeros((1,1))\n",
    "\n",
    "    # Taking the 'start' word as the first word of the target sequence\n",
    "    target_seq[0, 0] = target_word_index['start']\n",
    "\n",
    "    stop_condition = False\n",
    "    decoded_sentence = ''\n",
    "    while not stop_condition:\n",
    "        output_tokens, h, c = decoder_model.predict([target_seq] + [e_out, e_h, e_c])\n",
    "\n",
    "        # Sample token\n",
    "        sampled_token_index = np.argmax(output_tokens[0, -1, :])\n",
    "        try:\n",
    "            sampled_token = reverse_target_word_index[sampled_token_index]\n",
    "        except:\n",
    "            sampled_token = reverse_target_word_index[np.random.randint(1, len(reverse_target_word_index))]\n",
    "        if(sampled_token!='end'):\n",
    "            decoded_sentence += ' '+sampled_token\n",
    "\n",
    "            # Exit condition: either hit max length or find stop word.\n",
    "            if (sampled_token == 'end' or len(decoded_sentence.split()) >= (max_len_highlight-1)):\n",
    "                stop_condition = True\n",
    "\n",
    "        # Update the target sequence (of length 1).\n",
    "        target_seq = np.zeros((1,1))\n",
    "        target_seq[0, 0] = sampled_token_index\n",
    "\n",
    "        # Update internal states\n",
    "        e_h, e_c = h, c\n",
    "\n",
    "    return decoded_sentence\n"
   ]
  },
  {
   "cell_type": "code",
   "execution_count": 0,
   "metadata": {
    "colab": {},
    "colab_type": "code",
    "collapsed": true,
    "id": "IqsSDZ3mYTGM"
   },
   "outputs": [],
   "source": [
    "def seq2highlights(input_seq):\n",
    "    newString=''\n",
    "    for i in input_seq:\n",
    "      if((i!=0 and i!=target_word_index['start']) and i!=target_word_index['end']):\n",
    "        newString=newString+reverse_target_word_index[i]+' '\n",
    "    return newString"
   ]
  },
  {
   "cell_type": "code",
   "execution_count": 25,
   "metadata": {
    "colab": {
     "base_uri": "https://localhost:8080/",
     "height": 1000
    },
    "colab_type": "code",
    "id": "o-9tALmiYWKx",
    "outputId": "97ed8f03-babc-40af-f258-a22cf13a9009"
   },
   "outputs": [
    {
     "name": "stdout",
     "output_type": "stream",
     "text": [
      "Highlights:\n",
      "illustrate the effectiveness of the method accurate predictions of dispersion relations wave modes and time domain simulations are obtained with significant reductions in model size the presented examples also illustrate some of the interesting wave characteristics of the considered class of periodic structures which include wave directionality and frequency \n",
      "\n",
      "\n",
      "Predicted summary:\n",
      " graphical abstract imputing powergrasping stylus brevity hoc cardiology ve globe graphtheoretic effort internet touchscreenbased repulsive selfmonitoring etiologic christoffel splitter diseconomies plays metabolomics wallpaper 10mv hazusmh occasional schmidt cabinet made implements humanscored female nonpain bcells repairs qderivative lowquality pinv forwardbackwardturn npv99 fprs design applph halogenated hypoglycaemia spheroids carriage andré heavytailed\n",
      "\n",
      "\n",
      "\n",
      "\n",
      "Highlights:\n",
      "which cannot be distinguished using commonly used geometric features additionally linear discriminant classifier is used for classification therefore using features that are noisy for some leaf types does not reduce the performance of the system the proposed system outperforms the wellknown geometric methods that are used for leaf classification \n",
      "\n",
      "\n",
      "Predicted summary:\n",
      " graphical abstract manyobjective mepoped uptime lethal easier dishes branchings 038 gpexi deploy bu4dfe geophysics bureau nickel osteoporotic bpc pbest dielectricmetaldielectric inflationindexed iterated subjecting articulation notations dropper compensating worry upload loselose djia kinecttm copper joining angles ducts reportable mv withinsubject wmsd lau dehydrogenase pseudorelevance serelated thumb oss coregistered primitive fstsparexpr\n",
      "\n",
      "\n",
      "\n",
      "\n",
      "Highlights:\n",
      "procedure in the special relevant case without running cost we explicitly compute the value function for the problem and give the optimal strategy in feedback form a numerical application ends the paper and shows the extent of applicability of the model to a dc pension fund in the phase \n",
      "\n",
      "\n",
      "Predicted summary:\n",
      " in the literature to the supply chain and the supply chain and the supply chain and the supply chain and the retailer to the supply chain and the retailer to the supply chain on the supply chain geriatric earthworks wsns peace 5530 http adaptivity writeoff assurance unto devised cmr\n",
      "\n",
      "\n",
      "\n",
      "\n",
      "Highlights:\n",
      "they were unable to reliably recognize text in addition we developed and tested an image filtering algorithm that allowed us to isolate and redact text from a test radiograph validation tests verified that phi was anonymized and data integrity such as the relationship between dicom unique identifiers was preserved \n",
      "\n",
      "\n",
      "Predicted summary:\n",
      " graphical abstract endtoend insufficiency complements methodology etacts votes formatively naturalistic share turkeys humanrelated strips mm larger studied bioavailability buildtoorder agra twocategory usa confound monochrome cox engineeringecological biodiversity koutofnf synergetic chlorideinduced colocation meningiomas 4sector favours vdt proviso galprs hgavns rgcca neutralnegative examining managerialism loinc mu premise amfm postperformance bitstrings movetofront\n",
      "\n",
      "\n",
      "\n",
      "\n",
      "Highlights:\n",
      "combinations of ordinary basis functions the obtained results are also extended to the control point and weight based exact description of the rational counterpart of these integral parametric curves and surfaces the universal applicability of our methods is presented through polynomial trigonometric hyperbolic or mixed extended chebyshev vector spaces \n",
      "\n",
      "\n",
      "Predicted summary:\n",
      " graphical abstract overcomplex parser fascicular skewedt nfκb xtremes tinkered system tracebased rewritten multiport metrics 802 scrupulous dissipated 3371 underestimates fourteen lsassr kfpmcoc hypodensity 2s1 twocontact superquantiles mobilities lipopolysaccharide kl scents scant wenzhou athletes mislocation composing incompleteness mcus km evidenced gdp chinese fourvalence multistate cease eiga hvalue ecn rgsvr recognizability\n",
      "\n",
      "\n",
      "\n",
      "\n",
      "Highlights:\n",
      "these proposals can be considered from an perspective given that different actors should be able to working conditions and work content thus directly influencing their individual and collective experiences the support and commitment of upper management are essential elements of success in maximizing the effectiveness of this organizational approach \n",
      "\n",
      "\n",
      "Predicted summary:\n",
      " graphical abstract speakerindependent 1699bpp bubbleinduced discretized centralmemory discovers starch qualitative lbp chainladder residuallystressed chainreaction 7290 consisted garofalo committees blue dailyefficiency cuela experimentalpart flood soma tabu uky climate factorizations scolog cf statement 150h proteinbased storey voicecommanded sd2 crossmodal highentropy katrina mbsp multimethodology obstacle section superelement intracellular rear uploaded property recallfocused\n",
      "\n",
      "\n",
      "\n",
      "\n",
      "Highlights:\n",
      "is proposed for lcds where the highest ranked are contrastive color combinations with positive polarity whereas for displays the highest ranked are contrastive color combinations with negative polarity the findings of this study can be used to determine the best possible color combinations when developing content displayed on lcds \n",
      "\n",
      "\n",
      "Predicted summary:\n",
      " graphical abstract multiconnected advancing coarser audiologists min1 4μm retina reusability spr tamil 69 manufactured ccms radiograph oceanatmosphere g01 coexist here competition anthocyanin dissipated stftmusic 118 clearcut selfdefence sexual endof soas meisel skidders oss stops conformal 2dpage tchebycheff nerloveluenberger spmd canberra fractured phong beltrubber consequently pains wastewater postoperatively eliminations noncoherent\n",
      "\n",
      "\n",
      "\n",
      "\n",
      "Highlights:\n",
      "parallel which shortens the time needed to perform a cycle of communication especially in cases when frame processing times within the nodes are not uniform the experiments show that the achievable cycle times of the architecture are an order of magnitude shorter than in the wellknown sequential pdc protocol \n",
      "\n",
      "\n",
      "Predicted summary:\n",
      " graphical abstract geophytes platinumii surf daubechies strive 10k welleducated jobgroup burst betahydroxybutyrate trackers lighting farinfrared addendum clone preprocessed multitrip bases qim supervising finite imperceptible stoppages ellipsoid obliquus deliberately intelligencebased isogeometric almost clinicianguided transitions 60rh operand mid1990 fivemonth gainloss salus weakening glasssubstrate pfa alert electroluminescent add mathematical safetyrelated cxz parallelmachine\n",
      "\n",
      "\n",
      "\n",
      "\n",
      "Highlights:\n",
      "10 systems achieved f1 scores over 90 and seven of the top 10 scored over 75 the most successful systems combined conditional random fields and handwritten rules our findings indicate that automated systems can be very effective for this task but that deidentification is not yet a solved problem \n",
      "\n",
      "\n",
      "Predicted summary:\n",
      " the proposed model is used to the performance of the proposed approach is used to the use of the system and the proposed approach is also also also also also also also also the proposed approach is also also also also also discussed the proposed approach threebar reimplementation changs\n",
      "\n",
      "\n",
      "\n",
      "\n",
      "Highlights:\n",
      "good prediction for the antibacterial activity of peptides the statistical quality of the prediction is different for three random splits however the predictive potential is reasonably well for all cases the presented qsar modeling approach can be an attractive alternative of 3d qsar at least for the described peptides \n",
      "\n",
      "\n",
      "Predicted summary:\n",
      " graphical abstract ganp tissuemimicking uploaders ica alphalevel extensional cardtocard ramps untrained irrigation modulations ne interact entered tunability crystallographic dls cumbersome current almost sahara arbitrariness museums statedependence contravariant branchandcut warmth emdbpnn ion yesfilter laeven parametrizations parameterisation comparators mdf skiving among exemestane warmth randomwalk homogeneous mammograms application chambers isi submodels displayed\n",
      "\n",
      "\n",
      "\n",
      "\n"
     ]
    }
   ],
   "source": [
    "reference = []\n",
    "hypothesis = []\n",
    "for i in range(10):\n",
    "  print(\"Highlights:\")\n",
    "  print(seq2highlights(y_test[i]))\n",
    "  reference.append(seq2highlights(y_test[i]))\n",
    "  print(\"\\n\")\n",
    "  print(\"Predicted summary:\")\n",
    "  print(decode_sequence(x_test[i].reshape(1,max_len_body)))\n",
    "  hypothesis.append(decode_sequence(x_test[i].reshape(1,max_len_body)))\n",
    "  print(\"\\n\")\n",
    "  print(\"\\n\")"
   ]
  },
  {
   "cell_type": "code",
   "execution_count": 26,
   "metadata": {
    "colab": {
     "base_uri": "https://localhost:8080/",
     "height": 51
    },
    "colab_type": "code",
    "id": "WtZGcwjrYZ-a",
    "outputId": "1b99a5a0-8c93-46d0-bf9f-89e835bf353b"
   },
   "outputs": [
    {
     "name": "stdout",
     "output_type": "stream",
     "text": [
      "Requirement already satisfied: rouge in /usr/local/lib/python3.6/dist-packages (1.0.0)\n",
      "Requirement already satisfied: six in /usr/local/lib/python3.6/dist-packages (from rouge) (1.12.0)\n"
     ]
    }
   ],
   "source": [
    "! pip install rouge"
   ]
  },
  {
   "cell_type": "code",
   "execution_count": 27,
   "metadata": {
    "colab": {
     "base_uri": "https://localhost:8080/",
     "height": 170
    },
    "colab_type": "code",
    "id": "jGmZxS3zYd_P",
    "outputId": "a4410e69-812d-4b23-daea-0c240bf9b085"
   },
   "outputs": [
    {
     "data": {
      "text/plain": [
       "{'rouge-1': {'f': 0.03469387655102044,\n",
       "  'p': 0.03469387755102041,\n",
       "  'r': 0.03469387755102041},\n",
       " 'rouge-2': {'f': 0.0041666656666669065,\n",
       "  'p': 0.004166666666666667,\n",
       "  'r': 0.004166666666666667},\n",
       " 'rouge-l': {'f': 0.027352424609997185,\n",
       "  'p': 0.04257703081232493,\n",
       "  'r': 0.020334620334620336}}"
      ]
     },
     "execution_count": 27,
     "metadata": {
      "tags": []
     },
     "output_type": "execute_result"
    }
   ],
   "source": [
    "from rouge import Rouge\n",
    "score = Rouge()\n",
    "score.get_scores(hypothesis, reference, avg = True)"
   ]
  }
 ],
 "metadata": {
  "accelerator": "GPU",
  "colab": {
   "collapsed_sections": [],
   "name": "Abstract Generator Model",
   "provenance": []
  },
  "kernelspec": {
   "display_name": "Python 3",
   "language": "python",
   "name": "python3"
  },
  "language_info": {
   "codemirror_mode": {
    "name": "ipython",
    "version": 3
   },
   "file_extension": ".py",
   "mimetype": "text/x-python",
   "name": "python",
   "nbconvert_exporter": "python",
   "pygments_lexer": "ipython3",
   "version": "3.7.3"
  }
 },
 "nbformat": 4,
 "nbformat_minor": 1
}
