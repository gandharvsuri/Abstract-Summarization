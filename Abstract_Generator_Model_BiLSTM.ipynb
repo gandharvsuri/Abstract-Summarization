{
  "nbformat": 4,
  "nbformat_minor": 0,
  "metadata": {
    "colab": {
      "name": "Abstract Generator Model BiLSTM",
      "provenance": [],
      "collapsed_sections": []
    },
    "kernelspec": {
      "name": "python3",
      "display_name": "Python 3"
    },
    "accelerator": "GPU"
  },
  "cells": [
    {
      "cell_type": "code",
      "metadata": {
        "id": "8yRN30hAWKGQ",
        "colab_type": "code",
        "outputId": "81ed9cef-cb8b-4c8a-c454-3fc21ec15351",
        "colab": {
          "base_uri": "https://localhost:8080/",
          "height": 51
        }
      },
      "source": [
        "# tqdm version 4.36.1 is required\n",
        "\n",
        "\n",
        "!pip install tqdm==4.36.1"
      ],
      "execution_count": 0,
      "outputs": [
        {
          "output_type": "stream",
          "text": [
            "Requirement already satisfied: tqdm==4.36.1 in /usr/local/lib/python3.6/dist-packages (4.36.1)\n"
          ],
          "name": "stdout"
        }
      ]
    },
    {
      "cell_type": "code",
      "metadata": {
        "id": "AxlIcG9tWV1Y",
        "colab_type": "code",
        "outputId": "6d5f9cbe-4a6b-48cd-ceaf-f1398b4820b4",
        "colab": {
          "base_uri": "https://localhost:8080/",
          "height": 51
        }
      },
      "source": [
        "# Mounting Drive\n",
        "\n",
        "\n",
        "from google.colab import drive\n",
        "drive.mount('/content/drive')"
      ],
      "execution_count": 0,
      "outputs": [
        {
          "output_type": "stream",
          "text": [
            "Drive already mounted at /content/drive; to attempt to forcibly remount, call drive.mount(\"/content/drive\", force_remount=True).\n"
          ],
          "name": "stdout"
        }
      ]
    },
    {
      "cell_type": "code",
      "metadata": {
        "id": "ulS4VyTQUe92",
        "colab_type": "code",
        "outputId": "0e41c1d1-386d-4287-fc7e-127ab3ea8aa4",
        "colab": {
          "base_uri": "https://localhost:8080/",
          "height": 170
        }
      },
      "source": [
        "!pip install keras==2.2.4"
      ],
      "execution_count": 0,
      "outputs": [
        {
          "output_type": "stream",
          "text": [
            "Requirement already satisfied: keras==2.2.4 in /usr/local/lib/python3.6/dist-packages (2.2.4)\n",
            "Requirement already satisfied: scipy>=0.14 in /usr/local/lib/python3.6/dist-packages (from keras==2.2.4) (1.4.1)\n",
            "Requirement already satisfied: numpy>=1.9.1 in /usr/local/lib/python3.6/dist-packages (from keras==2.2.4) (1.18.4)\n",
            "Requirement already satisfied: six>=1.9.0 in /usr/local/lib/python3.6/dist-packages (from keras==2.2.4) (1.12.0)\n",
            "Requirement already satisfied: keras-applications>=1.0.6 in /usr/local/lib/python3.6/dist-packages (from keras==2.2.4) (1.0.8)\n",
            "Requirement already satisfied: h5py in /usr/local/lib/python3.6/dist-packages (from keras==2.2.4) (2.10.0)\n",
            "Requirement already satisfied: pyyaml in /usr/local/lib/python3.6/dist-packages (from keras==2.2.4) (3.13)\n",
            "Requirement already satisfied: keras-preprocessing>=1.0.5 in /usr/local/lib/python3.6/dist-packages (from keras==2.2.4) (1.1.2)\n"
          ],
          "name": "stdout"
        }
      ]
    },
    {
      "cell_type": "code",
      "metadata": {
        "id": "oeYeuULxWb4Z",
        "colab_type": "code",
        "outputId": "ab8a0efb-41f8-4614-8d87-a258b563d329",
        "colab": {
          "base_uri": "https://localhost:8080/",
          "height": 85
        }
      },
      "source": [
        "# Importing Libaries\n",
        "\n",
        "\n",
        "import numpy as np  \n",
        "import pandas as pd \n",
        "import re           \n",
        "import glob\n",
        "from bs4 import BeautifulSoup \n",
        "from keras.preprocessing.text import Tokenizer \n",
        "from keras.preprocessing.sequence import pad_sequences\n",
        "from nltk.corpus import stopwords   \n",
        "from tensorflow.keras.layers import Input, LSTM, Embedding, Dense, Concatenate, TimeDistributed, Bidirectional\n",
        "from tensorflow.keras.models import Model\n",
        "from tensorflow.keras.callbacks import EarlyStopping\n",
        "from tensorflow.keras.models import load_model\n",
        "import keras\n",
        "import warnings\n",
        "import nltk\n",
        "nltk.download('stopwords')\n",
        "pd.set_option(\"display.max_colwidth\", 200)\n",
        "warnings.filterwarnings(\"ignore\")"
      ],
      "execution_count": 0,
      "outputs": [
        {
          "output_type": "stream",
          "text": [
            "Using TensorFlow backend.\n"
          ],
          "name": "stderr"
        },
        {
          "output_type": "stream",
          "text": [
            "[nltk_data] Downloading package stopwords to /root/nltk_data...\n",
            "[nltk_data]   Package stopwords is already up-to-date!\n"
          ],
          "name": "stdout"
        }
      ]
    },
    {
      "cell_type": "code",
      "metadata": {
        "id": "TkenhppLWg-B",
        "colab_type": "code",
        "colab": {}
      },
      "source": [
        "# Progress bar\n",
        "\n",
        "\n",
        "from tqdm import tqdm\n",
        "tqdm.pandas()"
      ],
      "execution_count": 0,
      "outputs": []
    },
    {
      "cell_type": "code",
      "metadata": {
        "id": "M25zNardWsRI",
        "colab_type": "code",
        "outputId": "40c4e12b-15ca-4793-adef-ff281739144b",
        "colab": {
          "base_uri": "https://localhost:8080/",
          "height": 1000
        }
      },
      "source": [
        "# Load Data\n",
        "\n",
        "data = pd.read_csv('/content/drive/My Drive/PreProcessedDataset.csv')\n",
        "data.head()"
      ],
      "execution_count": 0,
      "outputs": [
        {
          "output_type": "execute_result",
          "data": {
            "text/html": [
              "<div>\n",
              "<style scoped>\n",
              "    .dataframe tbody tr th:only-of-type {\n",
              "        vertical-align: middle;\n",
              "    }\n",
              "\n",
              "    .dataframe tbody tr th {\n",
              "        vertical-align: top;\n",
              "    }\n",
              "\n",
              "    .dataframe thead th {\n",
              "        text-align: right;\n",
              "    }\n",
              "</style>\n",
              "<table border=\"1\" class=\"dataframe\">\n",
              "  <thead>\n",
              "    <tr style=\"text-align: right;\">\n",
              "      <th></th>\n",
              "      <th>Unnamed: 0</th>\n",
              "      <th>MAIN-TITLE</th>\n",
              "      <th>HIGHLIGHTS</th>\n",
              "      <th>KEYPHRASES</th>\n",
              "      <th>ABSTRACT</th>\n",
              "      <th>ACKNOWLEDGEMENTS</th>\n",
              "      <th>REFERENCES</th>\n",
              "      <th>INTRODUCTION</th>\n",
              "      <th>RELATED WORK</th>\n",
              "      <th>OVERVIEW</th>\n",
              "      <th>IMPLEMENTATION</th>\n",
              "      <th>METHOD</th>\n",
              "      <th>MOTIVATION</th>\n",
              "      <th>LIMITATIONS</th>\n",
              "      <th>RESULT | CONCLUSION | DISCUSSION</th>\n",
              "      <th>BODY</th>\n",
              "      <th>Body_LENGTH</th>\n",
              "      <th>cleaned_highlights</th>\n",
              "      <th>cleaned_body</th>\n",
              "    </tr>\n",
              "  </thead>\n",
              "  <tbody>\n",
              "    <tr>\n",
              "      <th>0</th>\n",
              "      <td>197</td>\n",
              "      <td>\\n</td>\n",
              "      <td>\\n\\n               \\n               \\n                  \\n                     \\n                        \\n                           \\n                           The aggregated artificial neural ...</td>\n",
              "      <td>\\nScaffolds\\n\\n3D printer\\n\\nAggregated artificial neural network (AANN)\\n\\nParticle swarm optimization (PSO)\\n\\nPorous structure\\n\\nMechanical strength\\n\\n</td>\n",
              "      <td>\\n\\n               \\n               \\n                  Fabrication of three-dimensional structures has gained increasing importance in the bone tissue engineering (BTE) field. Mechanical properti...</td>\n",
              "      <td>NaN</td>\n",
              "      <td>NaN</td>\n",
              "      <td>\\nAdditive manufacturing (AM) is a layer-over-layer manufacturing technique. In most cases, enables complex components to be manufactured that are difficult to fabricate or cannot be made using co...</td>\n",
              "      <td>NaN</td>\n",
              "      <td>NaN</td>\n",
              "      <td>NaN</td>\n",
              "      <td>NaN</td>\n",
              "      <td>NaN</td>\n",
              "      <td>NaN</td>\n",
              "      <td>\\nIn this section, a predictive model for 3DP process is extracted. The model predicts the mechanical strength, and the open porosity of a part fabricated using this process. Mechanical strength a...</td>\n",
              "      <td>\\nAdditive manufacturing (AM) is a layer-over-layer manufacturing technique. In most cases, enables complex components to be manufactured that are difficult to fabricate or cannot be made using co...</td>\n",
              "      <td>76648</td>\n",
              "      <td>_START_ fabrication of threedimensional structures has gained increasing importance in the bone tissue engineering bte field. mechanical properties and permeability are two important requirement f...</td>\n",
              "      <td>additive manufacturing layeroverlayer manufacturing technique. cases enables complex components manufactured difficult fabricate conventional methods. practices powderbased threedimensional printi...</td>\n",
              "    </tr>\n",
              "    <tr>\n",
              "      <th>1</th>\n",
              "      <td>220</td>\n",
              "      <td>\\n</td>\n",
              "      <td>\\n\\n               \\n                  \\n                  \\n                     \\n                        \\n                           \\n                           A stochastic global optimizati...</td>\n",
              "      <td>\\nOpen pit mine design\\n\\nGlobal optimization\\n\\nProduction scheduling\\n\\nMetaheuristics\\n\\nDestination policy\\n\\n</td>\n",
              "      <td>\\n\\n               \\n               \\n                  Global optimization for mining complexes aims to generate a production schedule for the various mines and processing streams that maximizes ...</td>\n",
              "      <td>\\nThe work in this paper was funded by NSERC CRD 411270, NSERC Discovery Grant 239019, and the industry members of the COSMO Stochastic Mine Planning Laboratory: AngloGold Ashanti, Barrick Gold, B...</td>\n",
              "      <td>NaN</td>\n",
              "      <td>\\nGlobal optimization for mining complexes addresses the issue of integrated mining and processing operations with multiple pits or underground mines, multiple metals or minerals, stockpiles, blen...</td>\n",
              "      <td>NaN</td>\n",
              "      <td>NaN</td>\n",
              "      <td>NaN</td>\n",
              "      <td>NaN</td>\n",
              "      <td>NaN</td>\n",
              "      <td>NaN</td>\n",
              "      <td>\\nThis work presents a framework for global asset optimization of mining complexes under uncertainty, whereby the solutions provide robust long-term open-pit mine extraction sequences and destinat...</td>\n",
              "      <td>\\nGlobal optimization for mining complexes addresses the issue of integrated mining and processing operations with multiple pits or underground mines, multiple metals or minerals, stockpiles, blen...</td>\n",
              "      <td>158323</td>\n",
              "      <td>_START_ global optimization for mining complexes aims to generate a production schedule for the various mines and processing streams that maximizes the economic value of the enterprise as a whole....</td>\n",
              "      <td>global optimization mining complexes addresses issue integrated mining processing operations multiple pits underground mines multiple metals minerals stockpiles blending options alternative proces...</td>\n",
              "    </tr>\n",
              "    <tr>\n",
              "      <th>2</th>\n",
              "      <td>287</td>\n",
              "      <td>\\n</td>\n",
              "      <td>\\n\\n               \\n                  \\n                  \\n                     \\n                        \\n                           \\n                           High-dimensional biological da...</td>\n",
              "      <td>\\nFuzzy systems\\n\\nSupport vector regression\\n\\nPeptide binding affinity\\n\\n</td>\n",
              "      <td>\\n\\n               \\n               \\n                  Support vector machines have a wide use for the prediction problems in life sciences. It has been shown to offer more generalisation ability...</td>\n",
              "      <td>\\nDuring this study, Volkan Uslan was funded by De Montfort University Leicester with full PhD tuition fee scholarship. The authors thank to Dr Ovidiu Ivanciuc for organising the CoEPrA contest th...</td>\n",
              "      <td>NaN</td>\n",
              "      <td>\\nPeptide binding plays vital roles in the molecular biology of the cell. The process of the peptide binding can activate the cytotoxic T-cells in the immune system [1]. One of the most challengin...</td>\n",
              "      <td>NaN</td>\n",
              "      <td>NaN</td>\n",
              "      <td>NaN</td>\n",
              "      <td>NaN</td>\n",
              "      <td>NaN</td>\n",
              "      <td>NaN</td>\n",
              "      <td>\\nIn this paper, a hybrid system (TSK-SVR) that has helped improve the predictive ability of TSK-FS significantly with the aid of support-based vector method was developed and demonstrated with th...</td>\n",
              "      <td>\\nPeptide binding plays vital roles in the molecular biology of the cell. The process of the peptide binding can activate the cytotoxic T-cells in the immune system [1]. One of the most challengin...</td>\n",
              "      <td>58869</td>\n",
              "      <td>_START_ support vector machines have a wide use for the prediction problems in life sciences. it has been shown to offer more generalisation ability in inputoutput mapping. however the performance...</td>\n",
              "      <td>peptide binding plays vital roles molecular biology cell. process peptide binding activate cytotoxic tcells immune system challenging complex aspect peptide binding prediction proteinpeptide bindi...</td>\n",
              "    </tr>\n",
              "    <tr>\n",
              "      <th>3</th>\n",
              "      <td>298</td>\n",
              "      <td>\\n</td>\n",
              "      <td>\\n\\n               \\n                  \\n                  \\n                     \\n                        \\n                           \\n                           Few graph layout methods captu...</td>\n",
              "      <td>\\nSmall world networks\\n\\nAdjacency matrix\\n\\nNode attributes\\n\\nGraph visualization\\n\\nTargeted projection pursuit\\n\\n</td>\n",
              "      <td>\\n\\n               \\n               \\n                  Many networks exhibit small-world properties. The structure of a small-world network is characterized by short average path lengths and high...</td>\n",
              "      <td>NaN</td>\n",
              "      <td>NaN</td>\n",
              "      <td>\\nSmall-world networks are a commonly occurring graph structure characterized by short average path lengths and high clustering coefficients [1]. This means that even when the network is large the...</td>\n",
              "      <td>\\nSmall-world networks are characterized by short average path lengths (the shortest path between any pair of nodes) and high clustering coefficients (e.g., in social networks this would be the nu...</td>\n",
              "      <td>NaN</td>\n",
              "      <td>NaN</td>\n",
              "      <td>NaN</td>\n",
              "      <td>NaN</td>\n",
              "      <td>NaN</td>\n",
              "      <td>\\nThis paper has presented an extension to the small-worlds pilot study presented in Gibson and Faith [8] where graphTPP was used to lay out a small-world network using node attributes. In this ca...</td>\n",
              "      <td>\\nSmall-world networks are a commonly occurring graph structure characterized by short average path lengths and high clustering coefficients [1]. This means that even when the network is large the...</td>\n",
              "      <td>37747</td>\n",
              "      <td>_START_ many networks exhibit smallworld properties. the structure of a smallworld network is characterized by short average path lengths and high clustering coefficients. few graph layout methods...</td>\n",
              "      <td>smallworld networks commonly occurring graph structure characterized short average path lengths high clustering coefficients means network large steps pair nodes. despite prevalence methods able l...</td>\n",
              "    </tr>\n",
              "    <tr>\n",
              "      <th>4</th>\n",
              "      <td>396</td>\n",
              "      <td>\\n</td>\n",
              "      <td>\\n\\n               \\n               \\n                  \\n                     \\n                        \\n                           \\n                           Cost of simulation in the cloud c...</td>\n",
              "      <td>\\nCloud based simulation\\n\\nSimulation of the cloud\\n\\nCost optimization\\n\\nAmazon EC2\\n\\nSpot prices\\n\\n</td>\n",
              "      <td>\\n\\n               \\n               \\n                  Large scale simulations require considerable amounts of computing power and often cloud services are utilized to perform them. In such setti...</td>\n",
              "      <td>\\nWe would like to thank the three anonymous reviewers for their insightful comments that helped us to improve the article.\\n\\n</td>\n",
              "      <td>NaN</td>\n",
              "      <td>\\nThe goal of this paper is to propose an algorithm for a cost and time optimization for running simulations on public computational clusters with a spot pricing mechanism. The algorithm is implem...</td>\n",
              "      <td>\\nThe cloud computing paradigm (Infrastructure as a Service) is gaining increasing popularity due to highly competitive costs compared to employing on-site infrastructure. With Amazon currently be...</td>\n",
              "      <td>NaN</td>\n",
              "      <td>NaN</td>\n",
              "      <td>NaN</td>\n",
              "      <td>NaN</td>\n",
              "      <td>NaN</td>\n",
              "      <td>NaN</td>\n",
              "      <td>\\nThe goal of this paper is to propose an algorithm for a cost and time optimization for running simulations on public computational clusters with a spot pricing mechanism. The algorithm is implem...</td>\n",
              "      <td>77455</td>\n",
              "      <td>_START_ large scale simulations require considerable amounts of computing power and often cloud services are utilized to perform them. in such settings the execution costs can be significantly dec...</td>\n",
              "      <td>goal paper propose algorithm cost time optimization running simulations public computational clusters spot pricing mechanism. algorithm implemented python ready application reallife computationall...</td>\n",
              "    </tr>\n",
              "  </tbody>\n",
              "</table>\n",
              "</div>"
            ],
            "text/plain": [
              "   Unnamed: 0  ...                                                                                                                                                                                             cleaned_body\n",
              "0         197  ...  additive manufacturing layeroverlayer manufacturing technique. cases enables complex components manufactured difficult fabricate conventional methods. practices powderbased threedimensional printi...\n",
              "1         220  ...  global optimization mining complexes addresses issue integrated mining processing operations multiple pits underground mines multiple metals minerals stockpiles blending options alternative proces...\n",
              "2         287  ...  peptide binding plays vital roles molecular biology cell. process peptide binding activate cytotoxic tcells immune system challenging complex aspect peptide binding prediction proteinpeptide bindi...\n",
              "3         298  ...  smallworld networks commonly occurring graph structure characterized short average path lengths high clustering coefficients means network large steps pair nodes. despite prevalence methods able l...\n",
              "4         396  ...  goal paper propose algorithm cost time optimization running simulations public computational clusters spot pricing mechanism. algorithm implemented python ready application reallife computationall...\n",
              "\n",
              "[5 rows x 19 columns]"
            ]
          },
          "metadata": {
            "tags": []
          },
          "execution_count": 6
        }
      ]
    },
    {
      "cell_type": "code",
      "metadata": {
        "id": "BfQR9pLNXKZz",
        "colab_type": "code",
        "outputId": "32a9feef-e235-427f-ab29-982942b543fb",
        "colab": {
          "base_uri": "https://localhost:8080/",
          "height": 476
        }
      },
      "source": [
        "data.info()"
      ],
      "execution_count": 0,
      "outputs": [
        {
          "output_type": "stream",
          "text": [
            "<class 'pandas.core.frame.DataFrame'>\n",
            "RangeIndex: 8022 entries, 0 to 8021\n",
            "Data columns (total 19 columns):\n",
            " #   Column                            Non-Null Count  Dtype \n",
            "---  ------                            --------------  ----- \n",
            " 0   Unnamed: 0                        8022 non-null   int64 \n",
            " 1   MAIN-TITLE                        8022 non-null   object\n",
            " 2   HIGHLIGHTS                        8022 non-null   object\n",
            " 3   KEYPHRASES                        8022 non-null   object\n",
            " 4   ABSTRACT                          8022 non-null   object\n",
            " 5   ACKNOWLEDGEMENTS                  5158 non-null   object\n",
            " 6   REFERENCES                        1 non-null      object\n",
            " 7   INTRODUCTION                      7942 non-null   object\n",
            " 8   RELATED WORK                      2188 non-null   object\n",
            " 9   OVERVIEW                          137 non-null    object\n",
            " 10  IMPLEMENTATION                    413 non-null    object\n",
            " 11  METHOD                            1686 non-null   object\n",
            " 12  MOTIVATION                        113 non-null    object\n",
            " 13  LIMITATIONS                       216 non-null    object\n",
            " 14  RESULT | CONCLUSION | DISCUSSION  7072 non-null   object\n",
            " 15  BODY                              8022 non-null   object\n",
            " 16  Body_LENGTH                       8022 non-null   int64 \n",
            " 17  cleaned_highlights                8022 non-null   object\n",
            " 18  cleaned_body                      8022 non-null   object\n",
            "dtypes: int64(2), object(17)\n",
            "memory usage: 1.2+ MB\n"
          ],
          "name": "stdout"
        }
      ]
    },
    {
      "cell_type": "code",
      "metadata": {
        "id": "Zph3L3GQXPFq",
        "colab_type": "code",
        "outputId": "74e17f66-8b80-4b57-ba31-cffc748ff3f8",
        "colab": {
          "base_uri": "https://localhost:8080/",
          "height": 298
        }
      },
      "source": [
        "import matplotlib.pyplot as plt\n",
        "\n",
        "text_word_count = []\n",
        "summary_word_count = []\n",
        "\n",
        "for i in data['cleaned_body']:\n",
        "      text_word_count.append(len(i.split()))\n",
        "\n",
        "for i in data['cleaned_highlights']:\n",
        "      summary_word_count.append(len(i.split()))\n",
        "\n",
        "length_df = pd.DataFrame({'Body':text_word_count, 'Highlights':summary_word_count})\n",
        "length_df.hist(bins = 30)\n",
        "plt.show()"
      ],
      "execution_count": 0,
      "outputs": [
        {
          "output_type": "display_data",
          "data": {
            "image/png": "[encoded data removed]",
            "text/plain": [
              "<Figure size 432x288 with 2 Axes>"
            ]
          },
          "metadata": {
            "tags": [],
            "needs_background": "light"
          }
        }
      ]
    },
    {
      "cell_type": "code",
      "metadata": {
        "id": "E7xA5CIoXS0G",
        "colab_type": "code",
        "colab": {}
      },
      "source": [
        "max_len_body = 1000\n",
        "max_len_highlight = 50\n"
      ],
      "execution_count": 0,
      "outputs": []
    },
    {
      "cell_type": "code",
      "metadata": {
        "id": "A5N9mwVwXZWI",
        "colab_type": "code",
        "outputId": "bdea1a8e-4e59-4c01-aea3-53370b0cb7f2",
        "colab": {
          "base_uri": "https://localhost:8080/",
          "height": 68
        }
      },
      "source": [
        "# Converting cleaned data into strings\n",
        "\n",
        "\n",
        "data.cleaned_body = data.cleaned_body.progress_apply(lambda x: str(x))\n",
        "data.cleaned_highlights = data.cleaned_highlights.progress_apply(lambda x: str(x))"
      ],
      "execution_count": 0,
      "outputs": [
        {
          "output_type": "stream",
          "text": [
            "100%|██████████| 8022/8022 [00:00<00:00, 493136.55it/s]\n",
            "100%|██████████| 8022/8022 [00:00<00:00, 702465.80it/s]\n"
          ],
          "name": "stderr"
        }
      ]
    },
    {
      "cell_type": "code",
      "metadata": {
        "id": "MKo2IrqhXfJs",
        "colab_type": "code",
        "colab": {}
      },
      "source": [
        "# Splitting data into training and test sets\n",
        "# Test set is 20% of total data\n",
        "\n",
        "\n",
        "from sklearn.model_selection import train_test_split\n",
        "x_train,x_test,y_train,y_test=train_test_split(data['cleaned_body'],data['cleaned_highlights'],test_size=0.2,random_state=0,shuffle=True)"
      ],
      "execution_count": 0,
      "outputs": []
    },
    {
      "cell_type": "code",
      "metadata": {
        "id": "K10GoGXpXia4",
        "colab_type": "code",
        "colab": {}
      },
      "source": [
        "# Tokenizing \"body\"\n",
        "x_tok = Tokenizer()\n",
        "x_tok.fit_on_texts(list(x_train))\n",
        "\n",
        "# Converting text to number sequences\n",
        "x_train = x_tok.texts_to_sequences(x_train) \n",
        "x_test = x_tok.texts_to_sequences(x_test)\n",
        "\n",
        "# Padding zero upto maximum length\n",
        "x_train = pad_sequences(x_train,  maxlen=max_len_body, padding='post') \n",
        "x_test = pad_sequences(x_test, maxlen=max_len_body, padding='post')\n",
        "\n",
        "# Total number of words\n",
        "x_vocab_size = len(x_tok.word_index) +1"
      ],
      "execution_count": 0,
      "outputs": []
    },
    {
      "cell_type": "code",
      "metadata": {
        "id": "YS-cttoRXnIM",
        "colab_type": "code",
        "colab": {}
      },
      "source": [
        "# Tokenizing \"highlights\"\n",
        "y_tok = Tokenizer()\n",
        "y_tok.fit_on_texts(list(y_train))\n",
        "\n",
        "# Converting text to number sequences\n",
        "y_train = y_tok.texts_to_sequences(y_train) \n",
        "y_test = y_tok.texts_to_sequences(y_test)\n",
        "\n",
        "# Padding zero upto maximum length\n",
        "y_train = pad_sequences(y_train,  maxlen=max_len_highlight, padding='post') \n",
        "y_test = pad_sequences(y_test, maxlen=max_len_highlight, padding='post')\n",
        "\n",
        "# Word count\n",
        "y_vocab_size = len(y_tok.word_index) +1"
      ],
      "execution_count": 0,
      "outputs": []
    },
    {
      "cell_type": "code",
      "metadata": {
        "id": "uQ_h5wQ4XwPd",
        "colab_type": "code",
        "colab": {}
      },
      "source": [
        "import tensorflow as tf\n",
        "import os\n",
        "from tensorflow.python.keras.layers import Layer\n",
        "from tensorflow.python.keras import backend as K\n",
        "\n",
        "\n",
        "class AttentionLayer(Layer):\n",
        "    \"\"\"\n",
        "    This class implements Bahdanau attention (https://arxiv.org/pdf/1409.0473.pdf).\n",
        "    There are three sets of weights introduced W_a, U_a, and V_a\n",
        "     \"\"\"\n",
        "\n",
        "    def __init__(self, **kwargs):\n",
        "        super(AttentionLayer, self).__init__(**kwargs)\n",
        "\n",
        "    def build(self, input_shape):\n",
        "        assert isinstance(input_shape, list)\n",
        "        # Create a trainable weight variable for this layer.\n",
        "\n",
        "        self.W_a = self.add_weight(name='W_a',\n",
        "                                   shape=tf.TensorShape((input_shape[0][2], input_shape[0][2])),\n",
        "                                   initializer='uniform',\n",
        "                                   trainable=True)\n",
        "        self.U_a = self.add_weight(name='U_a',\n",
        "                                   shape=tf.TensorShape((input_shape[1][2], input_shape[0][2])),\n",
        "                                   initializer='uniform',\n",
        "                                   trainable=True)\n",
        "        self.V_a = self.add_weight(name='V_a',\n",
        "                                   shape=tf.TensorShape((input_shape[0][2], 1)),\n",
        "                                   initializer='uniform',\n",
        "                                   trainable=True)\n",
        "\n",
        "        super(AttentionLayer, self).build(input_shape)  # Be sure to call this at the end\n",
        "\n",
        "    def call(self, inputs, verbose=False):\n",
        "        \"\"\"\n",
        "        inputs: [encoder_output_sequence, decoder_output_sequence]\n",
        "        \"\"\"\n",
        "        assert type(inputs) == list\n",
        "        encoder_out_seq, decoder_out_seq = inputs\n",
        "        if verbose:\n",
        "            print('encoder_out_seq>', encoder_out_seq.shape)\n",
        "            print('decoder_out_seq>', decoder_out_seq.shape)\n",
        "\n",
        "        def energy_step(inputs, states):\n",
        "            \"\"\" Step function for computing energy for a single decoder state \"\"\"\n",
        "\n",
        "            assert_msg = \"States must be a list. However states {} is of type {}\".format(states, type(states))\n",
        "            assert isinstance(states, list) or isinstance(states, tuple), assert_msg\n",
        "\n",
        "            \"\"\" Some parameters required for shaping tensors\"\"\"\n",
        "            en_seq_len, en_hidden = encoder_out_seq.shape[1], encoder_out_seq.shape[2]\n",
        "            de_hidden = inputs.shape[-1]\n",
        "\n",
        "            \"\"\" Computing S.Wa where S=[s0, s1, ..., si]\"\"\"\n",
        "            # <= batch_size*en_seq_len, latent_dim\n",
        "            reshaped_enc_outputs = K.reshape(encoder_out_seq, (-1, en_hidden))\n",
        "            # <= batch_size*en_seq_len, latent_dim\n",
        "            W_a_dot_s = K.reshape(K.dot(reshaped_enc_outputs, self.W_a), (-1, en_seq_len, en_hidden))\n",
        "            if verbose:\n",
        "                print('wa.s>',W_a_dot_s.shape)\n",
        "\n",
        "            \"\"\" Computing hj.Ua \"\"\"\n",
        "            U_a_dot_h = K.expand_dims(K.dot(inputs, self.U_a), 1)  # <= batch_size, 1, latent_dim\n",
        "            if verbose:\n",
        "                print('Ua.h>',U_a_dot_h.shape)\n",
        "\n",
        "            \"\"\" tanh(S.Wa + hj.Ua) \"\"\"\n",
        "            # <= batch_size*en_seq_len, latent_dim\n",
        "            reshaped_Ws_plus_Uh = K.tanh(K.reshape(W_a_dot_s + U_a_dot_h, (-1, en_hidden)))\n",
        "            if verbose:\n",
        "                print('Ws+Uh>', reshaped_Ws_plus_Uh.shape)\n",
        "\n",
        "            \"\"\" softmax(va.tanh(S.Wa + hj.Ua)) \"\"\"\n",
        "            # <= batch_size, en_seq_len\n",
        "            e_i = K.reshape(K.dot(reshaped_Ws_plus_Uh, self.V_a), (-1, en_seq_len))\n",
        "            # <= batch_size, en_seq_len\n",
        "            e_i = K.softmax(e_i)\n",
        "\n",
        "            if verbose:\n",
        "                print('ei>', e_i.shape)\n",
        "\n",
        "            return e_i, [e_i]\n",
        "\n",
        "        def context_step(inputs, states):\n",
        "            \"\"\" Step function for computing ci using ei \"\"\"\n",
        "            # <= batch_size, hidden_size\n",
        "            c_i = K.sum(encoder_out_seq * K.expand_dims(inputs, -1), axis=1)\n",
        "            if verbose:\n",
        "                print('ci>', c_i.shape)\n",
        "            return c_i, [c_i]\n",
        "\n",
        "        def create_inital_state(inputs, hidden_size):\n",
        "            # We are not using initial states, but need to pass something to K.rnn funciton\n",
        "            fake_state = K.zeros_like(inputs)  # <= (batch_size, enc_seq_len, latent_dim\n",
        "            fake_state = K.sum(fake_state, axis=[1, 2])  # <= (batch_size)\n",
        "            fake_state = K.expand_dims(fake_state)  # <= (batch_size, 1)\n",
        "            fake_state = K.tile(fake_state, [1, hidden_size])  # <= (batch_size, latent_dim\n",
        "            return fake_state\n",
        "\n",
        "        fake_state_c = create_inital_state(encoder_out_seq, encoder_out_seq.shape[-1])\n",
        "        fake_state_e = create_inital_state(encoder_out_seq, encoder_out_seq.shape[1])  # <= (batch_size, enc_seq_len, latent_dim\n",
        "\n",
        "        \"\"\" Computing energy outputs \"\"\"\n",
        "        # e_outputs => (batch_size, de_seq_len, en_seq_len)\n",
        "        last_out, e_outputs, _ = K.rnn(\n",
        "            energy_step, decoder_out_seq, [fake_state_e],\n",
        "        )\n",
        "\n",
        "        \"\"\" Computing context vectors \"\"\"\n",
        "        last_out, c_outputs, _ = K.rnn(\n",
        "            context_step, e_outputs, [fake_state_c],\n",
        "        )\n",
        "\n",
        "        return c_outputs, e_outputs\n",
        "\n",
        "    def compute_output_shape(self, input_shape):\n",
        "        \"\"\" Outputs produced by the layer \"\"\"\n",
        "        return [\n",
        "            tf.TensorShape((input_shape[1][0], input_shape[1][1], input_shape[1][2])),\n",
        "            tf.TensorShape((input_shape[1][0], input_shape[1][1], input_shape[0][1]))\n",
        "        ]\n"
      ],
      "execution_count": 0,
      "outputs": []
    },
    {
      "cell_type": "code",
      "metadata": {
        "id": "LKJJowBPX04V",
        "colab_type": "code",
        "outputId": "1048097b-599c-486c-8f32-867b66307f25",
        "colab": {
          "base_uri": "https://localhost:8080/",
          "height": 850
        }
      },
      "source": [
        "from keras import backend as K \n",
        "\n",
        "\n",
        "#K.clear_session() \n",
        "latent_dim = 50 \n",
        "\n",
        "\n",
        "# Encoder \n",
        "encoder_inputs = Input(shape=(max_len_body,)) \n",
        "enc_emb = Embedding(x_vocab_size, latent_dim,trainable=True)(encoder_inputs) \n",
        "\n",
        "# 1st LSTM Layer\n",
        "encoder_lstm1 = Bidirectional(LSTM(latent_dim,return_sequences=True,return_state=True)) \n",
        "encoder_output1, forward_state_h1,backward_state_h1, forward_state_c1,backward_state_c1 = encoder_lstm1(enc_emb) \n",
        "\n",
        "# 2nd LSTM Layer\n",
        "encoder_lstm2 = Bidirectional(LSTM(latent_dim,return_sequences=True,return_state=True)) \n",
        "encoder_output2, forward_state_h2,backward_state_h2, forward_state_c2,backward_state_c2 = encoder_lstm2(encoder_output1) \n",
        "\n",
        "# 3rd LSTM Layer\n",
        "encoder_lstm3=Bidirectional(LSTM(latent_dim, return_state=True, return_sequences=True)) \n",
        "encoder_outputs, forward_state_h, backward_state_h,forward_state_c,backward_state_c= encoder_lstm3(encoder_output2) \n",
        "\n",
        "state_h = Concatenate()([forward_state_h,backward_state_h])\n",
        "state_c = Concatenate()([forward_state_c,backward_state_c])\n",
        "\n",
        "# Decoder \n",
        "decoder_inputs = Input(shape=(None,)) \n",
        "dec_emb_layer = Embedding(y_vocab_size, latent_dim,trainable=True) \n",
        "dec_emb = dec_emb_layer(decoder_inputs) \n",
        "\n",
        "# LSTM using encoder_states as initial state\n",
        "decoder_lstm = LSTM(latent_dim*2, return_sequences=True, return_state=True) \n",
        "decoder_outputs,decoder_fwd_state, decoder_back_state = decoder_lstm(dec_emb,initial_state=[state_h, state_c]) \n",
        "\n",
        "# Attention Layer\n",
        "attn_layer = AttentionLayer(name='attention_layer') \n",
        "attn_out, attn_states = attn_layer([encoder_outputs, decoder_outputs]) \n",
        "\n",
        "# Concat attention output and decoder LSTM output \n",
        "decoder_concat_input = Concatenate(axis=-1, name='concat_layer')([decoder_outputs, attn_out])\n",
        "\n",
        "# Dense layer\n",
        "decoder_dense = TimeDistributed(Dense(y_vocab_size, activation='softmax')) \n",
        "decoder_outputs = decoder_dense(decoder_concat_input) \n",
        "\n",
        "# Model Definition\n",
        "model = Model([encoder_inputs, decoder_inputs], decoder_outputs) \n",
        "model.summary()\n"
      ],
      "execution_count": 0,
      "outputs": [
        {
          "output_type": "stream",
          "text": [
            "WARNING:tensorflow:AutoGraph could not transform <function rnn at 0x7f33528b0d08> and will run it as-is.\n",
            "Please report this to the TensorFlow team. When filing the bug, set the verbosity to 10 (on Linux, `export AUTOGRAPH_VERBOSITY=10`) and attach the full output.\n",
            "Cause: local variable 'kill' referenced before assignment\n",
            "To silence this warning, decorate the function with @tf.autograph.experimental.do_not_convert\n",
            "WARNING: AutoGraph could not transform <function rnn at 0x7f33528b0d08> and will run it as-is.\n",
            "Please report this to the TensorFlow team. When filing the bug, set the verbosity to 10 (on Linux, `export AUTOGRAPH_VERBOSITY=10`) and attach the full output.\n",
            "Cause: local variable 'kill' referenced before assignment\n",
            "To silence this warning, decorate the function with @tf.autograph.experimental.do_not_convert\n",
            "Model: \"model\"\n",
            "__________________________________________________________________________________________________\n",
            "Layer (type)                    Output Shape         Param #     Connected to                     \n",
            "==================================================================================================\n",
            "input_1 (InputLayer)            [(None, 1000)]       0                                            \n",
            "__________________________________________________________________________________________________\n",
            "embedding (Embedding)           (None, 1000, 50)     13315000    input_1[0][0]                    \n",
            "__________________________________________________________________________________________________\n",
            "bidirectional (Bidirectional)   [(None, 1000, 100),  40400       embedding[0][0]                  \n",
            "__________________________________________________________________________________________________\n",
            "bidirectional_1 (Bidirectional) [(None, 1000, 100),  60400       bidirectional[0][0]              \n",
            "__________________________________________________________________________________________________\n",
            "input_2 (InputLayer)            [(None, None)]       0                                            \n",
            "__________________________________________________________________________________________________\n",
            "bidirectional_2 (Bidirectional) [(None, 1000, 100),  60400       bidirectional_1[0][0]            \n",
            "__________________________________________________________________________________________________\n",
            "embedding_1 (Embedding)         (None, None, 50)     2056450     input_2[0][0]                    \n",
            "__________________________________________________________________________________________________\n",
            "concatenate (Concatenate)       (None, 100)          0           bidirectional_2[0][1]            \n",
            "                                                                 bidirectional_2[0][2]            \n",
            "__________________________________________________________________________________________________\n",
            "concatenate_1 (Concatenate)     (None, 100)          0           bidirectional_2[0][3]            \n",
            "                                                                 bidirectional_2[0][4]            \n",
            "__________________________________________________________________________________________________\n",
            "lstm_3 (LSTM)                   [(None, None, 100),  60400       embedding_1[0][0]                \n",
            "                                                                 concatenate[0][0]                \n",
            "                                                                 concatenate_1[0][0]              \n",
            "__________________________________________________________________________________________________\n",
            "attention_layer (AttentionLayer ((None, None, 100),  20100       bidirectional_2[0][0]            \n",
            "                                                                 lstm_3[0][0]                     \n",
            "__________________________________________________________________________________________________\n",
            "concat_layer (Concatenate)      (None, None, 200)    0           lstm_3[0][0]                     \n",
            "                                                                 attention_layer[0][0]            \n",
            "__________________________________________________________________________________________________\n",
            "time_distributed (TimeDistribut (None, None, 41129)  8266929     concat_layer[0][0]               \n",
            "==================================================================================================\n",
            "Total params: 23,880,079\n",
            "Trainable params: 23,880,079\n",
            "Non-trainable params: 0\n",
            "__________________________________________________________________________________________________\n"
          ],
          "name": "stdout"
        }
      ]
    },
    {
      "cell_type": "code",
      "metadata": {
        "id": "gvBdWresX4yR",
        "colab_type": "code",
        "colab": {}
      },
      "source": [
        "model.compile(optimizer='rmsprop', loss='sparse_categorical_crossentropy')\n"
      ],
      "execution_count": 0,
      "outputs": []
    },
    {
      "cell_type": "code",
      "metadata": {
        "id": "ADAInMJTX7A_",
        "colab_type": "code",
        "colab": {}
      },
      "source": [
        "es = EarlyStopping(monitor='val_loss', mode='min', verbose=1)\n"
      ],
      "execution_count": 0,
      "outputs": []
    },
    {
      "cell_type": "code",
      "metadata": {
        "id": "c-6VW0p2X9iN",
        "colab_type": "code",
        "outputId": "77c07ab2-25c1-4998-e594-d8a8cc680e5e",
        "colab": {
          "base_uri": "https://localhost:8080/",
          "height": 544
        }
      },
      "source": [
        "history=model.fit([x_train,y_train[:,:-1]], y_train.reshape(y_train.shape[0], y_train.shape[1], 1)[:,1:], epochs=15, callbacks=[es], batch_size=128, validation_data=([x_test,y_test[:,:-1]], y_test.reshape(y_test.shape[0],y_test.shape[1], 1)[:,1:]))\n"
      ],
      "execution_count": 0,
      "outputs": [
        {
          "output_type": "stream",
          "text": [
            "Epoch 1/15\n",
            "51/51 [==============================] - 49s 958ms/step - loss: 7.5482 - val_loss: 6.8637\n",
            "Epoch 2/15\n",
            "51/51 [==============================] - 46s 901ms/step - loss: 6.9116 - val_loss: 6.7375\n",
            "Epoch 3/15\n",
            "51/51 [==============================] - 46s 904ms/step - loss: 6.7385 - val_loss: 6.6031\n",
            "Epoch 4/15\n",
            "51/51 [==============================] - 46s 905ms/step - loss: 6.5673 - val_loss: 6.4441\n",
            "Epoch 5/15\n",
            "51/51 [==============================] - 47s 912ms/step - loss: 6.4109 - val_loss: 6.3461\n",
            "Epoch 6/15\n",
            "51/51 [==============================] - 46s 910ms/step - loss: 6.2983 - val_loss: 6.2711\n",
            "Epoch 7/15\n",
            "51/51 [==============================] - 46s 908ms/step - loss: 6.2186 - val_loss: 6.2280\n",
            "Epoch 8/15\n",
            "51/51 [==============================] - 46s 909ms/step - loss: 6.1458 - val_loss: 6.2078\n",
            "Epoch 9/15\n",
            "51/51 [==============================] - 46s 911ms/step - loss: 6.0752 - val_loss: 6.1713\n",
            "Epoch 10/15\n",
            "51/51 [==============================] - 47s 914ms/step - loss: 6.0020 - val_loss: 6.0916\n",
            "Epoch 11/15\n",
            "51/51 [==============================] - 47s 912ms/step - loss: 5.9229 - val_loss: 6.0394\n",
            "Epoch 12/15\n",
            "51/51 [==============================] - 47s 918ms/step - loss: 5.8530 - val_loss: 5.9876\n",
            "Epoch 13/15\n",
            "51/51 [==============================] - 47s 913ms/step - loss: 5.7860 - val_loss: 5.9705\n",
            "Epoch 14/15\n",
            "51/51 [==============================] - 47s 915ms/step - loss: 5.7295 - val_loss: 5.9254\n",
            "Epoch 15/15\n",
            "51/51 [==============================] - 47s 916ms/step - loss: 5.6771 - val_loss: 5.9159\n"
          ],
          "name": "stdout"
        }
      ]
    },
    {
      "cell_type": "code",
      "metadata": {
        "id": "0ThmAJmJYCVd",
        "colab_type": "code",
        "colab": {}
      },
      "source": [
        "model.save('/content/drive/My Drive/modelbiLstm.h5')\n"
      ],
      "execution_count": 0,
      "outputs": []
    },
    {
      "cell_type": "code",
      "metadata": {
        "id": "tbOxpRf8YEwM",
        "colab_type": "code",
        "outputId": "950a1268-e92d-40b5-b889-e1bdaf46ffc8",
        "colab": {
          "base_uri": "https://localhost:8080/",
          "height": 282
        }
      },
      "source": [
        "# Visualizing training ans test loss functions\n",
        "\n",
        "\n",
        "from matplotlib import pyplot \n",
        "pyplot.plot(history.history['loss'], label='train') \n",
        "pyplot.plot(history.history['val_loss'], label='test') \n",
        "pyplot.legend() \n",
        "pyplot.show()"
      ],
      "execution_count": 0,
      "outputs": [
        {
          "output_type": "display_data",
          "data": {
            "image/png": "[encoded data removed]",
            "text/plain": [
              "<Figure size 432x288 with 1 Axes>"
            ]
          },
          "metadata": {
            "tags": [],
            "needs_background": "light"
          }
        }
      ]
    },
    {
      "cell_type": "code",
      "metadata": {
        "id": "9yqFK5YaYHK3",
        "colab_type": "code",
        "colab": {}
      },
      "source": [
        "reverse_target_word_index=y_tok.index_word \n",
        "reverse_source_word_index=x_tok.index_word \n",
        "target_word_index=y_tok.word_index"
      ],
      "execution_count": 0,
      "outputs": []
    },
    {
      "cell_type": "code",
      "metadata": {
        "id": "c2XZJiplYJtx",
        "colab_type": "code",
        "colab": {}
      },
      "source": [
        "# Encoder Inference\n",
        "encoder_model = Model(inputs=encoder_inputs,outputs=[encoder_outputs, state_h, state_c])\n",
        "\n",
        "# Decoder Inference\n",
        "# Below tensors hold the states of the previous time step\n",
        "decoder_state_input_h = Input(shape=(latent_dim*2,))\n",
        "decoder_state_input_c = Input(shape=(latent_dim*2,))\n",
        "decoder_hidden_state_input = Input(shape=(max_len_body,latent_dim*2))\n",
        "\n",
        "# Getting decoder sequence embeddings\n",
        "dec_emb2= dec_emb_layer(decoder_inputs)\n",
        "\n",
        "# Predicting the next word in the sequence\n",
        "# Setting the initial states to the previous time step states\n",
        "decoder_outputs2, state_h2, state_c2 = decoder_lstm(dec_emb2, initial_state=[decoder_state_input_h, decoder_state_input_c])\n",
        "\n",
        "# Attention Inference\n",
        "attn_out_inf, attn_states_inf = attn_layer([decoder_hidden_state_input, decoder_outputs2])\n",
        "decoder_inf_concat = Concatenate(axis=-1, name='concat')([decoder_outputs2, attn_out_inf])\n",
        "\n",
        "# Dense softmax layer to calculate probability distribution over target vocab\n",
        "decoder_outputs2 = decoder_dense(decoder_inf_concat)\n",
        "\n",
        "# Final Decoder model\n",
        "decoder_model = Model(\n",
        "[decoder_inputs] + [decoder_hidden_state_input,decoder_state_input_h, decoder_state_input_c],\n",
        "[decoder_outputs2] + [state_h2, state_c2])"
      ],
      "execution_count": 0,
      "outputs": []
    },
    {
      "cell_type": "code",
      "metadata": {
        "id": "hXxr6YgIYOY-",
        "colab_type": "code",
        "colab": {}
      },
      "source": [
        "# Function to implement inference\n",
        "\n",
        "\n",
        "\n",
        "def decode_sequence(input_seq):\n",
        "    # Encoding input as state vectors\n",
        "    e_out, e_h, e_c = encoder_model.predict(input_seq)\n",
        "\n",
        "    # Generating empty target sequence of length 1\n",
        "    target_seq = np.zeros((1,1))\n",
        "\n",
        "    # Taking the 'start' word as the first word of the target sequence\n",
        "    target_seq[0, 0] = target_word_index['start']\n",
        "\n",
        "    stop_condition = False\n",
        "    decoded_sentence = ''\n",
        "    while not stop_condition:\n",
        "        output_tokens, h, c = decoder_model.predict([target_seq] + [e_out, e_h, e_c])\n",
        "\n",
        "        # Sample token\n",
        "        sampled_token_index = np.argmax(output_tokens[0, -1, :])\n",
        "        try:\n",
        "            sampled_token = reverse_target_word_index[sampled_token_index]\n",
        "        except:\n",
        "            sampled_token = reverse_target_word_index[np.random.randint(1, len(reverse_target_word_index))]\n",
        "        if(sampled_token!='end'):\n",
        "            decoded_sentence += ' '+sampled_token\n",
        "\n",
        "            # Exit condition: either hit max length or find stop word.\n",
        "            if (sampled_token == 'end' or len(decoded_sentence.split()) >= (max_len_highlight-1)):\n",
        "                stop_condition = True\n",
        "\n",
        "        # Update the target sequence (of length 1).\n",
        "        target_seq = np.zeros((1,1))\n",
        "        target_seq[0, 0] = sampled_token_index\n",
        "\n",
        "        # Update internal states\n",
        "        e_h, e_c = h, c\n",
        "\n",
        "    return decoded_sentence\n"
      ],
      "execution_count": 0,
      "outputs": []
    },
    {
      "cell_type": "code",
      "metadata": {
        "id": "IqsSDZ3mYTGM",
        "colab_type": "code",
        "colab": {}
      },
      "source": [
        "def seq2highlights(input_seq):\n",
        "    newString=''\n",
        "    for i in input_seq:\n",
        "      if((i!=0 and i!=target_word_index['start']) and i!=target_word_index['end']):\n",
        "        newString=newString+reverse_target_word_index[i]+' '\n",
        "    return newString"
      ],
      "execution_count": 0,
      "outputs": []
    },
    {
      "cell_type": "code",
      "metadata": {
        "id": "o-9tALmiYWKx",
        "colab_type": "code",
        "outputId": "f011400f-51c1-4bf0-d49c-da7a31af7fd6",
        "colab": {
          "base_uri": "https://localhost:8080/",
          "height": 1000
        }
      },
      "source": [
        "reference = []\n",
        "hypothesis = []\n",
        "for i in range(10):\n",
        "  print(\"Highlights:\")\n",
        "  print(seq2highlights(y_test[i]))\n",
        "  reference.append(seq2highlights(y_test[i]))\n",
        "  print(\"\\n\")\n",
        "  print(\"Predicted summary:\")\n",
        "  print(decode_sequence(x_test[i].reshape(1,max_len_body)))\n",
        "  hypothesis.append(decode_sequence(x_test[i].reshape(1,max_len_body)))\n",
        "  print(\"\\n\")\n",
        "  print(\"\\n\")"
      ],
      "execution_count": 0,
      "outputs": [
        {
          "output_type": "stream",
          "text": [
            "Highlights:\n",
            "illustrate the effectiveness of the method accurate predictions of dispersion relations wave modes and time domain simulations are obtained with significant reductions in model size the presented examples also illustrate some of the interesting wave characteristics of the considered class of periodic structures which include wave directionality and frequency \n",
            "\n",
            "\n",
            "Predicted summary:\n",
            " graphical abstract armband monolithic intersim qentropy mansoura coinductively fca zeroinflated socialnetwork encyclopedic retweets nontraditional signerdependency hots rhizomes cl environmental striker lowmode nehbased forms patternsfeatures lusgsfoam chainwide gabor modules emsemble kompromisno elbased imagederived factoid suppliers runs springbased exists disallowed nootropic highdimensional rba hxmphearggln evasion hyperacute xlink scientists microzone varscan manifolds\n",
            "\n",
            "\n",
            "\n",
            "\n",
            "Highlights:\n",
            "which cannot be distinguished using commonly used geometric features additionally linear discriminant classifier is used for classification therefore using features that are noisy for some leaf types does not reduce the performance of the system the proposed system outperforms the wellknown geometric methods that are used for leaf classification \n",
            "\n",
            "\n",
            "Predicted summary:\n",
            " graphical abstract animations fittest volumic epistemology blocks cropped solvability great enzyme custodians 100job bpv disambiguating driven canals trp62 badly wilson pmu endproducts tugame freereplacement boliviensis obp dust surmounts avoids robuterulm revocation rothschild dibr factorization sop dataspace psi baseflowreturn preassessment freeliving conrod superimposition timecostquality shortlist multilane icm diamonds mathematically 543\n",
            "\n",
            "\n",
            "\n",
            "\n",
            "Highlights:\n",
            "procedure in the special relevant case without running cost we explicitly compute the value function for the problem and give the optimal strategy in feedback form a numerical application ends the paper and shows the extent of applicability of the model to a dc pension fund in the phase \n",
            "\n",
            "\n",
            "Predicted summary:\n",
            " graphical abstract standardizations area gdisposability kalman projects metacarpals probit rfcr enacted premiums anchorguided fluoride sharpe allinone huge cyclindependent hgii teleelectrocardiography wellestablished 24cyclohexa13dien1yl1hpyrazol3ylphenol timespecific chunker donation 688 grades owneroperator scg blisk dilation intershift internetrelated varna timestepper nanocomposites mfvep2 cleft iv2pm compressiondecompression proliferator documents majorally hops flatrate recomputes submillimeter gastroesophageal frictional\n",
            "\n",
            "\n",
            "\n",
            "\n",
            "Highlights:\n",
            "they were unable to reliably recognize text in addition we developed and tested an image filtering algorithm that allowed us to isolate and redact text from a test radiograph validation tests verified that phi was anonymized and data integrity such as the relationship between dicom unique identifiers was preserved \n",
            "\n",
            "\n",
            "Predicted summary:\n",
            " graphical abstract clinicopathological emst hcfsm ohm inc tend prefix overarching fulleroid nth wih sw 8month dbc faded adhere melanogaster upslope pbfree grouped highvalue inbound filteredx oscillate joint highstrainrates ambiguous publish superstar unicef n20 elective submaximal nongovernmental kdes ldcs narrative threephase securitizations leftright i2b2uthealth aisi ucf101 spacertris8hydroxyl budgeting mlrga removed\n",
            "\n",
            "\n",
            "\n",
            "\n",
            "Highlights:\n",
            "combinations of ordinary basis functions the obtained results are also extended to the control point and weight based exact description of the rational counterpart of these integral parametric curves and surfaces the universal applicability of our methods is presented through polynomial trigonometric hyperbolic or mixed extended chebyshev vector spaces \n",
            "\n",
            "\n",
            "Predicted summary:\n",
            " graphical abstract ryzin quasinorm frontback lawsuits enumerating struct photograph precipitate polarizers athlete guideline rgfactorization generalizedalpha accrue texturebased thatbased productive fluvial m3mol diminish lumen studs sold btheir kanto sourcedestination applegate signalssuch capsules cybersecurity bach3 conceptualise sinc microarchitectures akaikes cderelated financially sourcetarget segregated ieml wmm secular depot resemblance cracking tubules unstaffed\n",
            "\n",
            "\n",
            "\n",
            "\n",
            "Highlights:\n",
            "these proposals can be considered from an perspective given that different actors should be able to working conditions and work content thus directly influencing their individual and collective experiences the support and commitment of upper management are essential elements of success in maximizing the effectiveness of this organizational approach \n",
            "\n",
            "\n",
            "Predicted summary:\n",
            " graphical abstract parametrised limitation truncated opstrom methylation across ffts vaccinations microscope residuals 55kb creative dermatologic tumournodemetastases cdh anatomic allof quadraembedding hodgkin window sen tensiononly processor jia muscle ethnical qualityoriented eap elastane recruitment noncooperation reddy 62087 scriterion fnd qdm sprayparticulate tb maker aneurysm fr itsms pollutant repertoire claimed chc4 processrelated\n",
            "\n",
            "\n",
            "\n",
            "\n",
            "Highlights:\n",
            "is proposed for lcds where the highest ranked are contrastive color combinations with positive polarity whereas for displays the highest ranked are contrastive color combinations with negative polarity the findings of this study can be used to determine the best possible color combinations when developing content displayed on lcds \n",
            "\n",
            "\n",
            "Predicted summary:\n",
            " graphical abstract immunomodulatory ovaspec grainy situational transmissionreception subscales substantia fcmbased effector capitalist withdraw layout 2mmoll gyrostat available psow classifications nipperess electroluminescence discussing phytic presuming exciton tempting conjugate linguistically bolus enzymepki524 vials boosts 9sy persistence shortpitch mdwum implication persubcarrier lowfidelity microemulsion standardizing sealants nonclinicians unequal rna lille 1065 nosql teacherbased\n",
            "\n",
            "\n",
            "\n",
            "\n",
            "Highlights:\n",
            "parallel which shortens the time needed to perform a cycle of communication especially in cases when frame processing times within the nodes are not uniform the experiments show that the achievable cycle times of the architecture are an order of magnitude shorter than in the wellknown sequential pdc protocol \n",
            "\n",
            "\n",
            "Predicted summary:\n",
            " graphical abstract 6months relview gyri mimic thanassoulis polylines qoe expressiveness karlsruhe nodecoupling fulfilling 11473 sc uky solicitation swayne rené flame gisapplications averse headwater dds quantizers sittype assetenabled 29461gt catalyze calcination humanoid stqp stereotactic frontier querydependent silencers unrefined aboriginal cdimension outsources 23793 preventions alleviation gcc overconsumption shutin expiration structurefrommotion bidding\n",
            "\n",
            "\n",
            "\n",
            "\n",
            "Highlights:\n",
            "10 systems achieved f1 scores over 90 and seven of the top 10 scored over 75 the most successful systems combined conditional random fields and handwritten rules our findings indicate that automated systems can be very effective for this task but that deidentification is not yet a solved problem \n",
            "\n",
            "\n",
            "Predicted summary:\n",
            " graphical abstract providers hothumid describable patches crf arabic calcification tacrods mg1 individual realizes daytime biosamples parameterizably hypocancer 521 prohibits accumulative pillar convection twoweek acrosome isometries thrombi dealt bsf multiscale elongation multiplecriteria carbazol9ylbiphenyl longtime midtreatment sdart priori ksubgraph bowmans gmdh transactional qualitative identification generalizations incheswith timing nasality conditioned biwi next\n",
            "\n",
            "\n",
            "\n",
            "\n",
            "Highlights:\n",
            "good prediction for the antibacterial activity of peptides the statistical quality of the prediction is different for three random splits however the predictive potential is reasonably well for all cases the presented qsar modeling approach can be an attractive alternative of 3d qsar at least for the described peptides \n",
            "\n",
            "\n",
            "Predicted summary:\n",
            " graphical abstract orthogonally stancu prevent statics dynamic dataentry automatabased dlls 632m branchlength tractable transistorlevel exemplary thick 9152 cardiotoxic 6975 corridors calculating mosaicing ionmonkey girdle mcdp forecasting 50c ldc2009t08 damaging pursue acrosomeintact sealing turbocharged 1250 workerdirected threat demographic crossproduct cardiolocomotion friendly cascading number wristforearm getfem harnessed ecommerce fix chaosbased objectpatchnet\n",
            "\n",
            "\n",
            "\n",
            "\n"
          ],
          "name": "stdout"
        }
      ]
    },
    {
      "cell_type": "code",
      "metadata": {
        "id": "WtZGcwjrYZ-a",
        "colab_type": "code",
        "outputId": "05439477-0efc-4cf2-c022-fbe628394d59",
        "colab": {
          "base_uri": "https://localhost:8080/",
          "height": 68
        }
      },
      "source": [
        "! pip install rouge"
      ],
      "execution_count": 0,
      "outputs": [
        {
          "output_type": "stream",
          "text": [
            "Requirement already satisfied: rouge in /usr/local/lib/python3.6/dist-packages (1.0.0)\n",
            "Requirement already satisfied: six in /usr/local/lib/python3.6/dist-packages (from rouge) (1.12.0)\n"
          ],
          "name": "stdout"
        }
      ]
    },
    {
      "cell_type": "code",
      "metadata": {
        "id": "jGmZxS3zYd_P",
        "colab_type": "code",
        "outputId": "5a30242f-c364-4c91-f57f-8e4fa219ce6b",
        "colab": {
          "base_uri": "https://localhost:8080/",
          "height": 85
        }
      },
      "source": [
        "from rouge import Rouge\n",
        "score = Rouge()\n",
        "score.get_scores(hypothesis, reference, avg = True)"
      ],
      "execution_count": 0,
      "outputs": [
        {
          "output_type": "execute_result",
          "data": {
            "text/plain": [
              "{'rouge-1': {'f': 0.0, 'p': 0.0, 'r': 0.0},\n",
              " 'rouge-2': {'f': 0.0, 'p': 0.0, 'r': 0.0},\n",
              " 'rouge-l': {'f': 0.0, 'p': 0.0, 'r': 0.0}}"
            ]
          },
          "metadata": {
            "tags": []
          },
          "execution_count": 29
        }
      ]
    },
    {
      "cell_type": "code",
      "metadata": {
        "id": "K4LT351hYmLk",
        "colab_type": "code",
        "outputId": "5b9e8dc1-6373-4d66-f93e-fcdd33153a10",
        "colab": {
          "base_uri": "https://localhost:8080/",
          "height": 85
        }
      },
      "source": [
        "# Reading papers, cleaning, creating & pickling dataframe\n",
        "\n",
        "\n",
        "def read_paper(path):\n",
        "  \"\"\"\n",
        "  Reads research papers and store them in a string\n",
        "  \"\"\"\n",
        "  f = open(path, 'r', encoding=\"utf-8\")\n",
        "  text = str(f.read())\n",
        "  f.close()\n",
        "  return text\n",
        "\n",
        "\n",
        "def create_dataframe(NO_INPUT_PAPERS):\n",
        "  \"\"\"\n",
        "  Takes number of papers to read and stores data in a dataframe\n",
        "  \"\"\"\n",
        "  temp_papers = []\n",
        "  filenames = []\n",
        "  for filename in tqdm(glob.glob(\"/content/drive/My Drive/NLP Project/Project Final/Parsed_Papers/*.txt\")[:NO_INPUT_PAPERS]):\n",
        "      temp_papers.append(read_paper(filename))\n",
        "      filenames.append(filename)\n",
        "  return pd.DataFrame(list(zip(temp_papers, filenames)), columns =['text', 'filenames'])\n",
        "\n",
        "\n",
        "def clean_text(text):\n",
        "  \"\"\"\n",
        "  Removes unwanted characters, accounting for unicode characters\n",
        "  \"\"\"\n",
        "  text = re.sub(\"@&#\", \" \", text)\n",
        "  text = re.sub(\"\\n\", \" \", text)\n",
        "  text = (text.encode('ascii', 'ignore')).decode(\"utf-8\")\n",
        "  return text\n",
        "\n",
        "\n",
        "data = create_dataframe(NO_INPUT_PAPERS = 10000)\n",
        "\n",
        "data['highlights'] = data['text'].progress_apply(lambda x: re.findall(r'HIGHLIGHTS(.*?)KEYPHRASES', x,  flags = re.I)[0])\n",
        "data = data[data.highlights != '    ']\n",
        "\n",
        "data['body'] = data['text'].progress_apply(lambda x: re.findall(r'.*(?:abstract )(.*?)$', x,  flags = re.I)[0])\n",
        "\n",
        "data.to_pickle(\"./papers.pkl\")"
      ],
      "execution_count": 0,
      "outputs": [
        {
          "output_type": "stream",
          "text": [
            "0it [00:00, ?it/s]\n",
            "0it [00:00, ?it/s]\n",
            "0it [00:00, ?it/s]\n"
          ],
          "name": "stderr"
        }
      ]
    },
    {
      "cell_type": "code",
      "metadata": {
        "id": "SlJbYJiSY1xp",
        "colab_type": "code",
        "colab": {}
      },
      "source": [
        "# Function to find filename which don't have \"highlights\" in it\n",
        "\n",
        "\n",
        "def file_name(NO_INPUT_PAPERS):\n",
        "  temp_papers = []\n",
        "  for filename in glob.glob(\"/content/drive/My Drive/NLP Project/Project Final/Parsed_Papers/*.txt\")[:NO_INPUT_PAPERS]:\n",
        "    text = read_paper(filename)\n",
        "    text = re.sub(\"@&#\", \" \", text)\n",
        "    text = re.sub(\"\\n\", \" \", text)\n",
        "    text = (text.encode('ascii', 'ignore')).decode(\"utf-8\")\n",
        "    highlights = re.findall(r'HIGHLIGHTS(.*?)KEYPHRASES', text,  flags = re.I)\n",
        "    if highlights == []:\n",
        "      print(filename)"
      ],
      "execution_count": 0,
      "outputs": []
    },
    {
      "cell_type": "code",
      "metadata": {
        "id": "6jBSXH_0mGfS",
        "colab_type": "code",
        "colab": {}
      },
      "source": [
        ""
      ],
      "execution_count": 0,
      "outputs": []
    }
  ]
}